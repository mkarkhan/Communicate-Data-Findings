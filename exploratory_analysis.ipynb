{
 "cells": [
  {
   "cell_type": "markdown",
   "metadata": {},
   "source": [
    "# Bay Wheels Bike Data Exploration\n",
    "## by Mrunal Karkhanis\n",
    "\n",
    "## Preliminary Wrangling\n",
    "\n",
    "> Briefly introduce your dataset here."
   ]
  },
  {
   "cell_type": "code",
   "execution_count": 1,
   "metadata": {},
   "outputs": [],
   "source": [
    "# import all packages and set plots to be embedded inline\n",
    "import numpy as np\n",
    "import pandas as pd\n",
    "import matplotlib.pyplot as plt\n",
    "import seaborn as sb\n",
    "\n",
    "%matplotlib inline"
   ]
  },
  {
   "cell_type": "markdown",
   "metadata": {},
   "source": [
    "> Load in your dataset and describe its properties through the questions below.\n",
    "Try and motivate your exploration goals through this section."
   ]
  },
  {
   "cell_type": "code",
   "execution_count": 2,
   "metadata": {},
   "outputs": [],
   "source": [
    "import urllib\n",
    "import requests\n",
    "import os\n",
    "import io\n",
    "import xml.etree.ElementTree as ET \n",
    "import zipfile\n",
    "from glob import glob\n",
    "\n",
    "def loadXML(): \n",
    "  \n",
    "    # url of data\n",
    "    url = 'https://s3.amazonaws.com/baywheels-data'\n",
    "  \n",
    "    # creating HTTP response object from given url \n",
    "    response = requests.get(url) \n",
    "  \n",
    "    # saving the xml file \n",
    "    with open('baywheels-data.xml', 'wb') as f: \n",
    "        f.write(response.content) "
   ]
  },
  {
   "cell_type": "code",
   "execution_count": 3,
   "metadata": {},
   "outputs": [],
   "source": [
    "def parse_XML(data): \n",
    "    # create Element Tree object\n",
    "    tree = ET.parse(data)\n",
    "    # get root element \n",
    "    root = tree.getroot() \n",
    "    # create list to store file names\n",
    "    filenames = [] \n",
    "    # obtain child nodes of Element Tree\n",
    "    children = root.getchildren()\n",
    "    for child in children:\n",
    "        for element in child:\n",
    "            if (element.tag) == '{http://s3.amazonaws.com/doc/2006-03-01/}Key':\n",
    "                name = element.text.encode('utf8') \n",
    "                # We use find method to exclude the index.html file\n",
    "                if name.find('.html') == -1:\n",
    "                    filenames.append(name)\n",
    "    return filenames"
   ]
  },
  {
   "cell_type": "code",
   "execution_count": 4,
   "metadata": {},
   "outputs": [],
   "source": [
    "def createURL(name):\n",
    "    url_list = []\n",
    "    for i in name:\n",
    "        url_list.append(\"https://s3.amazonaws.com/baywheels-data/\"+i)\n",
    "    return url_list"
   ]
  },
  {
   "cell_type": "code",
   "execution_count": 5,
   "metadata": {},
   "outputs": [],
   "source": [
    "# Make directory if it doesn't already exist\n",
    "folder_name = 'baywheels_ride_data'\n",
    "if not os.path.exists(folder_name):\n",
    "    os.makedirs(folder_name)"
   ]
  },
  {
   "cell_type": "code",
   "execution_count": 6,
   "metadata": {},
   "outputs": [],
   "source": [
    "def downloadfile(urllist):\n",
    "    for url in urllist:\n",
    "        if url.find('.zip') == -1:\n",
    "            response = requests.get(url)\n",
    "            with open(os.path.join(folder_name,url.split('/')[-1]),mode ='wb') as file:\n",
    "                file.write(response.content)\n",
    "        else:\n",
    "            response = requests.get(url)\n",
    "            csv = zipfile.ZipFile(io.BytesIO(response.content))\n",
    "            csv.extractall(path = '/Users/mkarkhan/anaconda2/baywheels_ride_data')"
   ]
  },
  {
   "cell_type": "code",
   "execution_count": 7,
   "metadata": {},
   "outputs": [],
   "source": [
    "def filetodf():\n",
    "    listitem = []\n",
    "    for filename in glob('/Users/mkarkhan/anaconda2/baywheels_ride_data/'+'*.csv'):\n",
    "        with open(filename, 'r') as f:\n",
    "            df = pd.read_csv(f)\n",
    "            listitem.append(df)\n",
    "    bikedata_df = pd.concat(listitem, axis=0, ignore_index=True, sort=True)\n",
    "    return bikedata_df"
   ]
  },
  {
   "cell_type": "code",
   "execution_count": 14,
   "metadata": {},
   "outputs": [],
   "source": [
    "def main():\n",
    "    # load xml from web to a file\n",
    "    loadXML()\n",
    "    # parse xml file\n",
    "    filenames = parse_XML('baywheels-data.xml')\n",
    "    # build urls from file names\n",
    "    filenames_url = createURL(filenames)\n",
    "    # doanload csv files to folder using urls\n",
    "    downloadfile(filenames_url)\n",
    "    # imports data from csv files in folder to dataframe\n",
    "    bikedata_df = filetodf()\n",
    "    return bikedata_df"
   ]
  },
  {
   "cell_type": "code",
   "execution_count": 18,
   "metadata": {},
   "outputs": [
    {
     "name": "stderr",
     "output_type": "stream",
     "text": [
      "/Users/mkarkhan/anaconda2/lib/python2.7/site-packages/ipykernel_launcher.py:9: DeprecationWarning: This method will be removed in future versions.  Use 'list(elem)' or iteration over elem instead.\n",
      "  if __name__ == '__main__':\n"
     ]
    }
   ],
   "source": [
    "bikedata_df = main()"
   ]
  },
  {
   "cell_type": "code",
   "execution_count": 20,
   "metadata": {},
   "outputs": [
    {
     "name": "stdout",
     "output_type": "stream",
     "text": [
      "<class 'pandas.core.frame.DataFrame'>\n",
      "RangeIndex: 3436488 entries, 0 to 3436487\n",
      "Data columns (total 16 columns):\n",
      "bike_id                    int64\n",
      "bike_share_for_all_trip    object\n",
      "duration_sec               int64\n",
      "end_station_id             float64\n",
      "end_station_latitude       float64\n",
      "end_station_longitude      float64\n",
      "end_station_name           object\n",
      "end_time                   object\n",
      "member_birth_year          float64\n",
      "member_gender              object\n",
      "start_station_id           float64\n",
      "start_station_latitude     float64\n",
      "start_station_longitude    float64\n",
      "start_station_name         object\n",
      "start_time                 object\n",
      "user_type                  object\n",
      "dtypes: float64(7), int64(2), object(7)\n",
      "memory usage: 419.5+ MB\n"
     ]
    }
   ],
   "source": [
    "bikedata_df.info()"
   ]
  },
  {
   "cell_type": "code",
   "execution_count": 21,
   "metadata": {},
   "outputs": [
    {
     "data": {
      "text/plain": [
       "0"
      ]
     },
     "execution_count": 21,
     "metadata": {},
     "output_type": "execute_result"
    }
   ],
   "source": [
    "# Check if any duplicates exist\n",
    "bikedata_df.duplicated().sum()"
   ]
  },
  {
   "cell_type": "code",
   "execution_count": 22,
   "metadata": {},
   "outputs": [
    {
     "data": {
      "text/plain": [
       "bike_id                         0\n",
       "bike_share_for_all_trip    519700\n",
       "duration_sec                    0\n",
       "end_station_id              12516\n",
       "end_station_latitude            0\n",
       "end_station_longitude           0\n",
       "end_station_name            12516\n",
       "end_time                        0\n",
       "member_birth_year          226635\n",
       "member_gender              226199\n",
       "start_station_id            12516\n",
       "start_station_latitude          0\n",
       "start_station_longitude         0\n",
       "start_station_name          12516\n",
       "start_time                      0\n",
       "user_type                       0\n",
       "dtype: int64"
      ]
     },
     "execution_count": 22,
     "metadata": {},
     "output_type": "execute_result"
    }
   ],
   "source": [
    "# Check if missing values exist\n",
    "bikedata_df.isna().sum()"
   ]
  },
  {
   "cell_type": "markdown",
   "metadata": {},
   "source": [
    "### Data Assessing:\n",
    "\n",
    "Quality Issues:\n",
    "1. start_time and end_time should be datetime datatype\n",
    "2. start_station_id and end_station_id should be object datatype\n",
    "3. member_birth_year should be integer datatype\n",
    "4. Calculate age of member and create new column for it using member_birth_year\n",
    "5. Calculate distance between stations using latitude and longitude points."
   ]
  },
  {
   "cell_type": "markdown",
   "metadata": {},
   "source": [
    "### Data Cleaning"
   ]
  },
  {
   "cell_type": "code",
   "execution_count": 23,
   "metadata": {},
   "outputs": [],
   "source": [
    "# Create copy of the data before we clean it\n",
    "bikedata_df_copy = bikedata_df.copy()"
   ]
  },
  {
   "cell_type": "markdown",
   "metadata": {},
   "source": [
    "#### Define:\n",
    "\n",
    "Convert start_time and endtime to datetime datatype using to_datetime() function"
   ]
  },
  {
   "cell_type": "markdown",
   "metadata": {},
   "source": [
    "#### Code:"
   ]
  },
  {
   "cell_type": "code",
   "execution_count": 25,
   "metadata": {},
   "outputs": [],
   "source": [
    "bikedata_df_copy['start_time'] = pd.to_datetime(bikedata_df_copy.start_time)\n",
    "bikedata_df_copy['end_time'] = pd.to_datetime(bikedata_df_copy.end_time)"
   ]
  },
  {
   "cell_type": "markdown",
   "metadata": {},
   "source": [
    "#### Test:"
   ]
  },
  {
   "cell_type": "code",
   "execution_count": 26,
   "metadata": {},
   "outputs": [
    {
     "name": "stdout",
     "output_type": "stream",
     "text": [
      "<class 'pandas.core.frame.DataFrame'>\n",
      "RangeIndex: 3436488 entries, 0 to 3436487\n",
      "Data columns (total 16 columns):\n",
      "bike_id                    int64\n",
      "bike_share_for_all_trip    object\n",
      "duration_sec               int64\n",
      "end_station_id             float64\n",
      "end_station_latitude       float64\n",
      "end_station_longitude      float64\n",
      "end_station_name           object\n",
      "end_time                   datetime64[ns]\n",
      "member_birth_year          float64\n",
      "member_gender              object\n",
      "start_station_id           float64\n",
      "start_station_latitude     float64\n",
      "start_station_longitude    float64\n",
      "start_station_name         object\n",
      "start_time                 datetime64[ns]\n",
      "user_type                  object\n",
      "dtypes: datetime64[ns](2), float64(7), int64(2), object(5)\n",
      "memory usage: 419.5+ MB\n"
     ]
    }
   ],
   "source": [
    "bikedata_df_copy.info()"
   ]
  },
  {
   "cell_type": "markdown",
   "metadata": {},
   "source": [
    "#### Define:\n",
    "\n",
    "Convert start_station_id and end_station_id to object datatype using astype() function"
   ]
  },
  {
   "cell_type": "markdown",
   "metadata": {},
   "source": [
    "#### Code:"
   ]
  },
  {
   "cell_type": "code",
   "execution_count": 32,
   "metadata": {},
   "outputs": [],
   "source": [
    "bikedata_df_copy['start_station_id'] = bikedata_df_copy['start_station_id'].astype('object')\n",
    "bikedata_df_copy['end_station_id'] = bikedata_df_copy['end_station_id'].astype('object')"
   ]
  },
  {
   "cell_type": "markdown",
   "metadata": {},
   "source": [
    "#### Test"
   ]
  },
  {
   "cell_type": "code",
   "execution_count": 33,
   "metadata": {},
   "outputs": [
    {
     "name": "stdout",
     "output_type": "stream",
     "text": [
      "<class 'pandas.core.frame.DataFrame'>\n",
      "RangeIndex: 3436488 entries, 0 to 3436487\n",
      "Data columns (total 16 columns):\n",
      "bike_id                    int64\n",
      "bike_share_for_all_trip    object\n",
      "duration_sec               int64\n",
      "end_station_id             object\n",
      "end_station_latitude       float64\n",
      "end_station_longitude      float64\n",
      "end_station_name           object\n",
      "end_time                   datetime64[ns]\n",
      "member_birth_year          float64\n",
      "member_gender              object\n",
      "start_station_id           object\n",
      "start_station_latitude     float64\n",
      "start_station_longitude    float64\n",
      "start_station_name         object\n",
      "start_time                 datetime64[ns]\n",
      "user_type                  object\n",
      "dtypes: datetime64[ns](2), float64(5), int64(2), object(7)\n",
      "memory usage: 419.5+ MB\n"
     ]
    }
   ],
   "source": [
    "bikedata_df_copy.info()"
   ]
  },
  {
   "cell_type": "markdown",
   "metadata": {},
   "source": [
    "#### Define:\n",
    "\n",
    "Fill missing values with 0000 using fillna() and convert member_birth_year to int using astype() function"
   ]
  },
  {
   "cell_type": "markdown",
   "metadata": {},
   "source": [
    "#### Code:"
   ]
  },
  {
   "cell_type": "code",
   "execution_count": 39,
   "metadata": {},
   "outputs": [],
   "source": [
    "# We fill missing values for member birth year with '0000'\n",
    "bikedata_df_copy['member_birth_year'] = bikedata_df_copy['member_birth_year'].fillna('0000')\n",
    "# Convert member birth year to int datatype\n",
    "bikedata_df_copy['member_birth_year'] = bikedata_df_copy['member_birth_year'].astype('int64')"
   ]
  },
  {
   "cell_type": "markdown",
   "metadata": {},
   "source": [
    "#### Test:"
   ]
  },
  {
   "cell_type": "code",
   "execution_count": 40,
   "metadata": {},
   "outputs": [
    {
     "name": "stdout",
     "output_type": "stream",
     "text": [
      "<class 'pandas.core.frame.DataFrame'>\n",
      "RangeIndex: 3436488 entries, 0 to 3436487\n",
      "Data columns (total 16 columns):\n",
      "bike_id                    int64\n",
      "bike_share_for_all_trip    object\n",
      "duration_sec               int64\n",
      "end_station_id             object\n",
      "end_station_latitude       float64\n",
      "end_station_longitude      float64\n",
      "end_station_name           object\n",
      "end_time                   datetime64[ns]\n",
      "member_birth_year          int64\n",
      "member_gender              object\n",
      "start_station_id           object\n",
      "start_station_latitude     float64\n",
      "start_station_longitude    float64\n",
      "start_station_name         object\n",
      "start_time                 datetime64[ns]\n",
      "user_type                  object\n",
      "dtypes: datetime64[ns](2), float64(4), int64(3), object(7)\n",
      "memory usage: 419.5+ MB\n"
     ]
    }
   ],
   "source": [
    "bikedata_df_copy.info()"
   ]
  },
  {
   "cell_type": "markdown",
   "metadata": {},
   "source": [
    "#### Define:\n",
    "\n",
    "Calculate age of member by subtracting birth year from current year"
   ]
  },
  {
   "cell_type": "markdown",
   "metadata": {},
   "source": [
    "#### Code:"
   ]
  },
  {
   "cell_type": "code",
   "execution_count": 44,
   "metadata": {},
   "outputs": [],
   "source": [
    "bikedata_df_copy['age'] = 2019 - bikedata_df_copy['member_birth_year']\n",
    "\n",
    "# We replace the age for members whose birth years we do not have with 0\n",
    "bikedata_df_copy['age'] = bikedata_df_copy['age'].replace(2019,0)"
   ]
  },
  {
   "cell_type": "markdown",
   "metadata": {},
   "source": [
    "#### Test:"
   ]
  },
  {
   "cell_type": "code",
   "execution_count": 45,
   "metadata": {},
   "outputs": [
    {
     "name": "stdout",
     "output_type": "stream",
     "text": [
      "<class 'pandas.core.frame.DataFrame'>\n",
      "RangeIndex: 3436488 entries, 0 to 3436487\n",
      "Data columns (total 17 columns):\n",
      "bike_id                    int64\n",
      "bike_share_for_all_trip    object\n",
      "duration_sec               int64\n",
      "end_station_id             object\n",
      "end_station_latitude       float64\n",
      "end_station_longitude      float64\n",
      "end_station_name           object\n",
      "end_time                   datetime64[ns]\n",
      "member_birth_year          int64\n",
      "member_gender              object\n",
      "start_station_id           object\n",
      "start_station_latitude     float64\n",
      "start_station_longitude    float64\n",
      "start_station_name         object\n",
      "start_time                 datetime64[ns]\n",
      "user_type                  object\n",
      "age                        int64\n",
      "dtypes: datetime64[ns](2), float64(4), int64(4), object(7)\n",
      "memory usage: 445.7+ MB\n"
     ]
    }
   ],
   "source": [
    "bikedata_df_copy.info()"
   ]
  },
  {
   "cell_type": "markdown",
   "metadata": {},
   "source": [
    "#### Define:\n",
    "\n",
    "Defined a function to calculate distance between start and end stations using latitude and longitude with the Haversine formula.\n",
    "\n",
    "Assigned calculated distance to distance column in dataframe"
   ]
  },
  {
   "cell_type": "markdown",
   "metadata": {},
   "source": [
    "#### Code:"
   ]
  },
  {
   "cell_type": "code",
   "execution_count": 55,
   "metadata": {},
   "outputs": [],
   "source": [
    "def distfromlatlong(lat_start,long_start,lat_end,long_end):\n",
    "    \n",
    "    # approximate radius of earth in km\n",
    "    R = 6373.0\n",
    "\n",
    "    dlon = long_end - long_start\n",
    "    dlat = lat_end - lat_start\n",
    "\n",
    "    a = np.sin(dlat / 2)**2 + np.cos(lat_start) * np.cos(lat_end) * np.sin(dlon / 2)**2\n",
    "    c = 2 * np.arctan2(np.sqrt(a), np.sqrt(1 - a))\n",
    "    \n",
    "    distance = R * c\n",
    "\n",
    "    return distance\n",
    "    \n",
    "bikedata_df_copy['distance'] = distfromlatlong(bikedata_df_copy['start_station_latitude'], bikedata_df_copy['start_station_longitude'], bikedata_df_copy['end_station_latitude'], bikedata_df_copy['end_station_longitude'])"
   ]
  },
  {
   "cell_type": "markdown",
   "metadata": {},
   "source": [
    "#### Test:"
   ]
  },
  {
   "cell_type": "code",
   "execution_count": 56,
   "metadata": {},
   "outputs": [
    {
     "data": {
      "text/plain": [
       "0          130.414848\n",
       "1          110.208813\n",
       "2          160.366026\n",
       "3          160.366026\n",
       "4           95.392913\n",
       "5          135.320658\n",
       "6           36.467759\n",
       "7           51.371323\n",
       "8           79.441646\n",
       "9           35.075744\n",
       "10          35.075744\n",
       "11          50.968033\n",
       "12          76.722537\n",
       "13         176.167459\n",
       "14          98.494331\n",
       "15         109.054650\n",
       "16          33.108054\n",
       "17          51.131087\n",
       "18          67.797547\n",
       "19         282.900648\n",
       "20          71.226313\n",
       "21         140.534380\n",
       "22         110.805746\n",
       "23         127.568539\n",
       "24          81.460361\n",
       "25          46.229203\n",
       "26          62.509302\n",
       "27           0.000000\n",
       "28          69.244730\n",
       "29         101.294841\n",
       "              ...    \n",
       "3436458    200.727509\n",
       "3436459    102.828609\n",
       "3436460     58.457084\n",
       "3436461     51.511821\n",
       "3436462     61.245524\n",
       "3436463     61.245524\n",
       "3436464    115.308631\n",
       "3436465     46.699158\n",
       "3436466     55.422154\n",
       "3436467     61.705591\n",
       "3436468    187.524348\n",
       "3436469     42.333251\n",
       "3436470    244.931663\n",
       "3436471     25.090531\n",
       "3436472     91.241860\n",
       "3436473     81.795861\n",
       "3436474    165.089864\n",
       "3436475    138.887210\n",
       "3436476     56.679328\n",
       "3436477     66.105196\n",
       "3436478     39.548749\n",
       "3436479     57.473205\n",
       "3436480     69.244730\n",
       "3436481     32.522782\n",
       "3436482    176.628702\n",
       "3436483    105.801952\n",
       "3436484     86.239120\n",
       "3436485     24.596681\n",
       "3436486     43.711086\n",
       "3436487     45.941723\n",
       "Name: distance, Length: 3436488, dtype: float64"
      ]
     },
     "execution_count": 56,
     "metadata": {},
     "output_type": "execute_result"
    }
   ],
   "source": [
    "bikedata_df_copy['distance']"
   ]
  },
  {
   "cell_type": "code",
   "execution_count": 57,
   "metadata": {},
   "outputs": [
    {
     "name": "stdout",
     "output_type": "stream",
     "text": [
      "<class 'pandas.core.frame.DataFrame'>\n",
      "RangeIndex: 3436488 entries, 0 to 3436487\n",
      "Data columns (total 18 columns):\n",
      "bike_id                    int64\n",
      "bike_share_for_all_trip    object\n",
      "duration_sec               int64\n",
      "end_station_id             object\n",
      "end_station_latitude       float64\n",
      "end_station_longitude      float64\n",
      "end_station_name           object\n",
      "end_time                   datetime64[ns]\n",
      "member_birth_year          int64\n",
      "member_gender              object\n",
      "start_station_id           object\n",
      "start_station_latitude     float64\n",
      "start_station_longitude    float64\n",
      "start_station_name         object\n",
      "start_time                 datetime64[ns]\n",
      "user_type                  object\n",
      "age                        int64\n",
      "distance                   float64\n",
      "dtypes: datetime64[ns](2), float64(5), int64(4), object(7)\n",
      "memory usage: 471.9+ MB\n"
     ]
    }
   ],
   "source": [
    "bikedata_df_copy.info()"
   ]
  },
  {
   "cell_type": "code",
   "execution_count": null,
   "metadata": {},
   "outputs": [],
   "source": []
  },
  {
   "cell_type": "markdown",
   "metadata": {},
   "source": [
    "### What is the structure of your dataset?\n",
    "\n",
    "> "
   ]
  },
  {
   "cell_type": "markdown",
   "metadata": {},
   "source": [
    "### What is/are the main feature(s) of interest in your dataset?"
   ]
  },
  {
   "cell_type": "code",
   "execution_count": null,
   "metadata": {},
   "outputs": [],
   "source": [
    "### What features in the dataset do you think will help support your investigation into your feature(s) of interest?"
   ]
  },
  {
   "cell_type": "markdown",
   "metadata": {},
   "source": [
    "## Univariate Exploration\n",
    "\n",
    "> In this section, investigate distributions of individual variables. If\n",
    "you see unusual points or outliers, take a deeper look to clean things up\n",
    "and prepare yourself to look at relationships between variables."
   ]
  },
  {
   "cell_type": "code",
   "execution_count": null,
   "metadata": {},
   "outputs": [],
   "source": []
  },
  {
   "cell_type": "markdown",
   "metadata": {},
   "source": [
    "> Make sure that, after every plot or related series of plots, that you\n",
    "include a Markdown cell with comments about what you observed, and what\n",
    "you plan on investigating next."
   ]
  },
  {
   "cell_type": "code",
   "execution_count": null,
   "metadata": {},
   "outputs": [],
   "source": []
  },
  {
   "cell_type": "markdown",
   "metadata": {},
   "source": [
    "### Discuss the distribution(s) of your variable(s) of interest. Were there any unusual points? Did you need to perform any transformations?\n",
    "\n",
    "> Your answer here!\n",
    "\n",
    "### Of the features you investigated, were there any unusual distributions? Did you perform any operations on the data to tidy, adjust, or change the form of the data? If so, why did you do this?\n",
    "\n",
    "> Your answer here!"
   ]
  },
  {
   "cell_type": "markdown",
   "metadata": {},
   "source": [
    "## Bivariate Exploration\n",
    "\n",
    "> In this section, investigate relationships between pairs of variables in your\n",
    "data. Make sure the variables that you cover here have been introduced in some\n",
    "fashion in the previous section (univariate exploration)."
   ]
  },
  {
   "cell_type": "code",
   "execution_count": null,
   "metadata": {},
   "outputs": [],
   "source": []
  },
  {
   "cell_type": "markdown",
   "metadata": {},
   "source": [
    "### Talk about some of the relationships you observed in this part of the investigation. How did the feature(s) of interest vary with other features in the dataset?\n",
    "\n",
    "> Your answer here!\n",
    "\n",
    "### Did you observe any interesting relationships between the other features (not the main feature(s) of interest)?\n",
    "\n",
    "> Your answer here!"
   ]
  },
  {
   "cell_type": "markdown",
   "metadata": {},
   "source": [
    "## Multivariate Exploration\n",
    "\n",
    "> Create plots of three or more variables to investigate your data even\n",
    "further. Make sure that your investigations are justified, and follow from\n",
    "your work in the previous sections."
   ]
  },
  {
   "cell_type": "code",
   "execution_count": null,
   "metadata": {},
   "outputs": [],
   "source": []
  },
  {
   "cell_type": "markdown",
   "metadata": {},
   "source": [
    "### Talk about some of the relationships you observed in this part of the investigation. Were there features that strengthened each other in terms of looking at your feature(s) of interest?\n",
    "\n",
    "> Your answer here!\n",
    "\n",
    "### Were there any interesting or surprising interactions between features?\n",
    "\n",
    "> Your answer here!"
   ]
  },
  {
   "cell_type": "markdown",
   "metadata": {},
   "source": [
    "> At the end of your report, make sure that you export the notebook as an\n",
    "html file from the `File > Download as... > HTML` menu. Make sure you keep\n",
    "track of where the exported file goes, so you can put it in the same folder\n",
    "as this notebook for project submission. Also, make sure you remove all of\n",
    "the quote-formatted guide notes like this one before you finish your report!"
   ]
  },
  {
   "cell_type": "code",
   "execution_count": null,
   "metadata": {},
   "outputs": [],
   "source": []
  }
 ],
 "metadata": {
  "kernelspec": {
   "display_name": "Python 2",
   "language": "python",
   "name": "python2"
  },
  "language_info": {
   "codemirror_mode": {
    "name": "ipython",
    "version": 2
   },
   "file_extension": ".py",
   "mimetype": "text/x-python",
   "name": "python",
   "nbconvert_exporter": "python",
   "pygments_lexer": "ipython2",
   "version": "2.7.14"
  }
 },
 "nbformat": 4,
 "nbformat_minor": 2
}
