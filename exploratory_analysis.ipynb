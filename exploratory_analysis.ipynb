{
 "cells": [
  {
   "cell_type": "markdown",
   "metadata": {},
   "source": [
    "# Bay Wheels Bike Data Exploration\n",
    "## by Mrunal Karkhanis\n",
    "\n",
    "## Preliminary Wrangling\n",
    "\n",
    "> The Baywheels Bike Trip Data contains "
   ]
  },
  {
   "cell_type": "code",
   "execution_count": 2,
   "metadata": {},
   "outputs": [],
   "source": [
    "# import all packages and set plots to be embedded inline\n",
    "import numpy as np\n",
    "import pandas as pd\n",
    "import matplotlib.pyplot as plt\n",
    "import seaborn as sb\n",
    "\n",
    "%matplotlib inline"
   ]
  },
  {
   "cell_type": "code",
   "execution_count": 3,
   "metadata": {},
   "outputs": [],
   "source": [
    "import urllib\n",
    "import requests\n",
    "import os\n",
    "import io\n",
    "import xml.etree.ElementTree as ET \n",
    "import zipfile\n",
    "from glob import glob\n",
    "\n",
    "def loadXML(): \n",
    "  \n",
    "    # url of data\n",
    "    url = 'https://s3.amazonaws.com/baywheels-data'\n",
    "  \n",
    "    # creating HTTP response object from given url \n",
    "    response = requests.get(url) \n",
    "  \n",
    "    # saving the xml file \n",
    "    with open('baywheels-data.xml', 'wb') as f: \n",
    "        f.write(response.content) "
   ]
  },
  {
   "cell_type": "code",
   "execution_count": 4,
   "metadata": {},
   "outputs": [],
   "source": [
    "def parse_XML(data): \n",
    "    # create Element Tree object\n",
    "    tree = ET.parse(data)\n",
    "    # get root element \n",
    "    root = tree.getroot() \n",
    "    # create list to store file names\n",
    "    filenames = [] \n",
    "    # obtain child nodes of Element Tree\n",
    "    children = root.getchildren()\n",
    "    for child in children:\n",
    "        for element in child:\n",
    "            if (element.tag) == '{http://s3.amazonaws.com/doc/2006-03-01/}Key':\n",
    "                name = element.text.encode('utf8') \n",
    "                # We use find method to exclude the index.html file\n",
    "                if name.find('.html') == -1:\n",
    "                    filenames.append(name)\n",
    "    return filenames"
   ]
  },
  {
   "cell_type": "code",
   "execution_count": 5,
   "metadata": {},
   "outputs": [],
   "source": [
    "def createURL(name):\n",
    "    url_list = []\n",
    "    for i in name:\n",
    "        url_list.append(\"https://s3.amazonaws.com/baywheels-data/\"+i)\n",
    "    return url_list"
   ]
  },
  {
   "cell_type": "code",
   "execution_count": 6,
   "metadata": {},
   "outputs": [],
   "source": [
    "# Make directory if it doesn't already exist\n",
    "folder_name = 'baywheels_ride_data'\n",
    "if not os.path.exists(folder_name):\n",
    "    os.makedirs(folder_name)"
   ]
  },
  {
   "cell_type": "code",
   "execution_count": 7,
   "metadata": {},
   "outputs": [],
   "source": [
    "def downloadfile(urllist):\n",
    "    for url in urllist:\n",
    "        if url.find('.zip') == -1:\n",
    "            response = requests.get(url)\n",
    "            with open(os.path.join(folder_name,url.split('/')[-1]),mode ='wb') as file:\n",
    "                file.write(response.content)\n",
    "        else:\n",
    "            response = requests.get(url)\n",
    "            csv = zipfile.ZipFile(io.BytesIO(response.content))\n",
    "            csv.extractall(path = '/Users/mkarkhan/anaconda2/baywheels_ride_data')"
   ]
  },
  {
   "cell_type": "code",
   "execution_count": 8,
   "metadata": {},
   "outputs": [],
   "source": [
    "def filetodf():\n",
    "    listitem = []\n",
    "    for filename in glob('/Users/mkarkhan/anaconda2/baywheels_ride_data/'+'*.csv'):\n",
    "        with open(filename, 'r') as f:\n",
    "            df = pd.read_csv(f)\n",
    "            listitem.append(df)\n",
    "    bikedata_df = pd.concat(listitem, axis=0, ignore_index=True, sort=True)\n",
    "    return bikedata_df"
   ]
  },
  {
   "cell_type": "code",
   "execution_count": 9,
   "metadata": {},
   "outputs": [],
   "source": [
    "def main():\n",
    "    # load xml from web to a file\n",
    "    loadXML()\n",
    "    # parse xml file\n",
    "    filenames = parse_XML('baywheels-data.xml')\n",
    "    # build urls from file names\n",
    "    filenames_url = createURL(filenames)\n",
    "    # doanload csv files to folder using urls\n",
    "    downloadfile(filenames_url)\n",
    "    # imports data from csv files in folder to dataframe\n",
    "    bikedata_df = filetodf()\n",
    "    return bikedata_df"
   ]
  },
  {
   "cell_type": "code",
   "execution_count": 10,
   "metadata": {},
   "outputs": [
    {
     "name": "stderr",
     "output_type": "stream",
     "text": [
      "/Users/mkarkhan/anaconda2/lib/python2.7/site-packages/ipykernel_launcher.py:9: DeprecationWarning: This method will be removed in future versions.  Use 'list(elem)' or iteration over elem instead.\n",
      "  if __name__ == '__main__':\n",
      "/Users/mkarkhan/anaconda2/lib/python2.7/site-packages/IPython/core/interactiveshell.py:2882: DtypeWarning: Columns (16) have mixed types. Specify dtype option on import or set low_memory=False.\n",
      "  exec(code_obj, self.user_global_ns, self.user_ns)\n"
     ]
    }
   ],
   "source": [
    "bikedata_df = main()"
   ]
  },
  {
   "cell_type": "code",
   "execution_count": 11,
   "metadata": {},
   "outputs": [
    {
     "name": "stdout",
     "output_type": "stream",
     "text": [
      "<class 'pandas.core.frame.DataFrame'>\n",
      "RangeIndex: 3628260 entries, 0 to 3628259\n",
      "Data columns (total 17 columns):\n",
      "bike_id                    int64\n",
      "bike_share_for_all_trip    object\n",
      "duration_sec               int64\n",
      "end_station_id             float64\n",
      "end_station_latitude       float64\n",
      "end_station_longitude      float64\n",
      "end_station_name           object\n",
      "end_time                   object\n",
      "member_birth_year          float64\n",
      "member_gender              object\n",
      "rental_access_method       object\n",
      "start_station_id           float64\n",
      "start_station_latitude     float64\n",
      "start_station_longitude    float64\n",
      "start_station_name         object\n",
      "start_time                 object\n",
      "user_type                  object\n",
      "dtypes: float64(7), int64(2), object(8)\n",
      "memory usage: 470.6+ MB\n"
     ]
    }
   ],
   "source": [
    "bikedata_df.info()"
   ]
  },
  {
   "cell_type": "code",
   "execution_count": 12,
   "metadata": {},
   "outputs": [
    {
     "data": {
      "text/plain": [
       "0"
      ]
     },
     "execution_count": 12,
     "metadata": {},
     "output_type": "execute_result"
    }
   ],
   "source": [
    "# Check if any duplicates exist\n",
    "bikedata_df.duplicated().sum()"
   ]
  },
  {
   "cell_type": "code",
   "execution_count": 13,
   "metadata": {},
   "outputs": [
    {
     "data": {
      "text/plain": [
       "bike_id                          0\n",
       "bike_share_for_all_trip     523593\n",
       "duration_sec                     0\n",
       "end_station_id               14778\n",
       "end_station_latitude             0\n",
       "end_station_longitude            0\n",
       "end_station_name             14778\n",
       "end_time                         0\n",
       "member_birth_year           245772\n",
       "member_gender               245118\n",
       "rental_access_method       3624367\n",
       "start_station_id             14676\n",
       "start_station_latitude           0\n",
       "start_station_longitude          0\n",
       "start_station_name           14676\n",
       "start_time                       0\n",
       "user_type                        0\n",
       "dtype: int64"
      ]
     },
     "execution_count": 13,
     "metadata": {},
     "output_type": "execute_result"
    }
   ],
   "source": [
    "# Check if missing values exist\n",
    "bikedata_df.isna().sum()"
   ]
  },
  {
   "cell_type": "markdown",
   "metadata": {},
   "source": [
    "### Data Assessing:\n",
    "\n",
    "Quality Issues:\n",
    "1. start_time and end_time should be datetime datatype\n",
    "2. start_station_id and end_station_id should be object datatype\n",
    "3. member_birth_year should be integer datatype\n",
    "4. Calculate age of member and create new column for it using member_birth_year\n",
    "5. Calculate distance between stations using latitude and longitude points."
   ]
  },
  {
   "cell_type": "markdown",
   "metadata": {},
   "source": [
    "### Data Cleaning"
   ]
  },
  {
   "cell_type": "code",
   "execution_count": 156,
   "metadata": {},
   "outputs": [],
   "source": [
    "# Create copy of the data before we clean it\n",
    "bikedata_df_copy = bikedata_df.copy()"
   ]
  },
  {
   "cell_type": "markdown",
   "metadata": {},
   "source": [
    "#### Define:\n",
    "\n",
    "Convert start_time and endtime to datetime datatype using to_datetime() function"
   ]
  },
  {
   "cell_type": "markdown",
   "metadata": {},
   "source": [
    "#### Code:"
   ]
  },
  {
   "cell_type": "code",
   "execution_count": 157,
   "metadata": {},
   "outputs": [],
   "source": [
    "bikedata_df_copy['start_time'] = pd.to_datetime(bikedata_df_copy.start_time)\n",
    "bikedata_df_copy['end_time'] = pd.to_datetime(bikedata_df_copy.end_time)"
   ]
  },
  {
   "cell_type": "markdown",
   "metadata": {},
   "source": [
    "#### Test:"
   ]
  },
  {
   "cell_type": "code",
   "execution_count": 158,
   "metadata": {},
   "outputs": [
    {
     "name": "stdout",
     "output_type": "stream",
     "text": [
      "<class 'pandas.core.frame.DataFrame'>\n",
      "RangeIndex: 3628260 entries, 0 to 3628259\n",
      "Data columns (total 17 columns):\n",
      "bike_id                    int64\n",
      "bike_share_for_all_trip    object\n",
      "duration_sec               int64\n",
      "end_station_id             float64\n",
      "end_station_latitude       float64\n",
      "end_station_longitude      float64\n",
      "end_station_name           object\n",
      "end_time                   datetime64[ns]\n",
      "member_birth_year          float64\n",
      "member_gender              object\n",
      "rental_access_method       object\n",
      "start_station_id           float64\n",
      "start_station_latitude     float64\n",
      "start_station_longitude    float64\n",
      "start_station_name         object\n",
      "start_time                 datetime64[ns]\n",
      "user_type                  object\n",
      "dtypes: datetime64[ns](2), float64(7), int64(2), object(6)\n",
      "memory usage: 470.6+ MB\n"
     ]
    }
   ],
   "source": [
    "bikedata_df_copy.info()"
   ]
  },
  {
   "cell_type": "markdown",
   "metadata": {},
   "source": [
    "#### Define:\n",
    "\n",
    "Convert start_station_id and end_station_id to object datatype using astype() function"
   ]
  },
  {
   "cell_type": "markdown",
   "metadata": {},
   "source": [
    "#### Code:"
   ]
  },
  {
   "cell_type": "code",
   "execution_count": 159,
   "metadata": {},
   "outputs": [],
   "source": [
    "bikedata_df_copy['start_station_id'] = bikedata_df_copy['start_station_id'].astype('object')\n",
    "bikedata_df_copy['end_station_id'] = bikedata_df_copy['end_station_id'].astype('object')"
   ]
  },
  {
   "cell_type": "markdown",
   "metadata": {},
   "source": [
    "#### Test"
   ]
  },
  {
   "cell_type": "code",
   "execution_count": 160,
   "metadata": {},
   "outputs": [
    {
     "name": "stdout",
     "output_type": "stream",
     "text": [
      "<class 'pandas.core.frame.DataFrame'>\n",
      "RangeIndex: 3628260 entries, 0 to 3628259\n",
      "Data columns (total 17 columns):\n",
      "bike_id                    int64\n",
      "bike_share_for_all_trip    object\n",
      "duration_sec               int64\n",
      "end_station_id             object\n",
      "end_station_latitude       float64\n",
      "end_station_longitude      float64\n",
      "end_station_name           object\n",
      "end_time                   datetime64[ns]\n",
      "member_birth_year          float64\n",
      "member_gender              object\n",
      "rental_access_method       object\n",
      "start_station_id           object\n",
      "start_station_latitude     float64\n",
      "start_station_longitude    float64\n",
      "start_station_name         object\n",
      "start_time                 datetime64[ns]\n",
      "user_type                  object\n",
      "dtypes: datetime64[ns](2), float64(5), int64(2), object(8)\n",
      "memory usage: 470.6+ MB\n"
     ]
    }
   ],
   "source": [
    "bikedata_df_copy.info()"
   ]
  },
  {
   "cell_type": "markdown",
   "metadata": {},
   "source": [
    "#### Define:\n",
    "\n",
    "Fill missing values with 0000 using fillna() and convert member_birth_year to int using astype() function"
   ]
  },
  {
   "cell_type": "markdown",
   "metadata": {},
   "source": [
    "#### Code:"
   ]
  },
  {
   "cell_type": "code",
   "execution_count": 161,
   "metadata": {},
   "outputs": [],
   "source": [
    "# We fill missing values for member birth year with '0000'\n",
    "bikedata_df_copy['member_birth_year'] = bikedata_df_copy['member_birth_year'].fillna('0000')\n",
    "# Convert member birth year to int datatype\n",
    "bikedata_df_copy['member_birth_year'] = bikedata_df_copy['member_birth_year'].astype('int64')"
   ]
  },
  {
   "cell_type": "markdown",
   "metadata": {},
   "source": [
    "#### Test:"
   ]
  },
  {
   "cell_type": "code",
   "execution_count": 162,
   "metadata": {},
   "outputs": [
    {
     "name": "stdout",
     "output_type": "stream",
     "text": [
      "<class 'pandas.core.frame.DataFrame'>\n",
      "RangeIndex: 3628260 entries, 0 to 3628259\n",
      "Data columns (total 17 columns):\n",
      "bike_id                    int64\n",
      "bike_share_for_all_trip    object\n",
      "duration_sec               int64\n",
      "end_station_id             object\n",
      "end_station_latitude       float64\n",
      "end_station_longitude      float64\n",
      "end_station_name           object\n",
      "end_time                   datetime64[ns]\n",
      "member_birth_year          int64\n",
      "member_gender              object\n",
      "rental_access_method       object\n",
      "start_station_id           object\n",
      "start_station_latitude     float64\n",
      "start_station_longitude    float64\n",
      "start_station_name         object\n",
      "start_time                 datetime64[ns]\n",
      "user_type                  object\n",
      "dtypes: datetime64[ns](2), float64(4), int64(3), object(8)\n",
      "memory usage: 470.6+ MB\n"
     ]
    }
   ],
   "source": [
    "bikedata_df_copy.info()"
   ]
  },
  {
   "cell_type": "markdown",
   "metadata": {},
   "source": [
    "#### Define:\n",
    "\n",
    "Calculate age of member by subtracting birth year from current year"
   ]
  },
  {
   "cell_type": "markdown",
   "metadata": {},
   "source": [
    "#### Code:"
   ]
  },
  {
   "cell_type": "code",
   "execution_count": 163,
   "metadata": {},
   "outputs": [],
   "source": [
    "bikedata_df_copy['age'] = 2019 - bikedata_df_copy['member_birth_year']\n",
    "\n",
    "# We replace the age for members whose birth years we do not have with 0\n",
    "bikedata_df_copy['age'] = bikedata_df_copy['age'].replace(2019,0)"
   ]
  },
  {
   "cell_type": "markdown",
   "metadata": {},
   "source": [
    "#### Test:"
   ]
  },
  {
   "cell_type": "code",
   "execution_count": 164,
   "metadata": {},
   "outputs": [
    {
     "name": "stdout",
     "output_type": "stream",
     "text": [
      "<class 'pandas.core.frame.DataFrame'>\n",
      "RangeIndex: 3628260 entries, 0 to 3628259\n",
      "Data columns (total 18 columns):\n",
      "bike_id                    int64\n",
      "bike_share_for_all_trip    object\n",
      "duration_sec               int64\n",
      "end_station_id             object\n",
      "end_station_latitude       float64\n",
      "end_station_longitude      float64\n",
      "end_station_name           object\n",
      "end_time                   datetime64[ns]\n",
      "member_birth_year          int64\n",
      "member_gender              object\n",
      "rental_access_method       object\n",
      "start_station_id           object\n",
      "start_station_latitude     float64\n",
      "start_station_longitude    float64\n",
      "start_station_name         object\n",
      "start_time                 datetime64[ns]\n",
      "user_type                  object\n",
      "age                        int64\n",
      "dtypes: datetime64[ns](2), float64(4), int64(4), object(8)\n",
      "memory usage: 498.3+ MB\n"
     ]
    }
   ],
   "source": [
    "bikedata_df_copy.info()"
   ]
  },
  {
   "cell_type": "markdown",
   "metadata": {},
   "source": [
    "#### Define:\n",
    "\n",
    "Defined a function to calculate distance between start and end stations using latitude and longitude with the Haversine formula.\n",
    "\n",
    "Assigned calculated distance to distance column in dataframe"
   ]
  },
  {
   "cell_type": "markdown",
   "metadata": {},
   "source": [
    "#### Code:"
   ]
  },
  {
   "cell_type": "code",
   "execution_count": 165,
   "metadata": {},
   "outputs": [],
   "source": [
    "import math\n",
    "from math import radians, sin, cos, acos\n",
    "\n",
    "def distfromlatlong(lat_start,lon_start,lat_end,lon_end):\n",
    "    \n",
    "    # approximate radius of earth in miles\n",
    "    R = 3958.8\n",
    "\n",
    "    dlon = math.radians(lon_end - lon_start)\n",
    "    dlat = math.radians(lat_end - lat_start)\n",
    "    \n",
    "    a = sin(dlat / 2)**2 + cos(lat_start) * cos(lat_end) * sin(dlon / 2)**2\n",
    "    c = 2 * math.atan2(math.sqrt(a), math.sqrt(1 - a))\n",
    "\n",
    "    distance = R * c\n",
    "    return distance"
   ]
  },
  {
   "cell_type": "code",
   "execution_count": 166,
   "metadata": {},
   "outputs": [],
   "source": [
    "bikedata_df_copy['distance'] = bikedata_df_copy.apply(lambda x: distfromlatlong(x['start_station_latitude'], x['start_station_longitude'], x['end_station_latitude'], x['end_station_longitude']), axis=1)"
   ]
  },
  {
   "cell_type": "markdown",
   "metadata": {},
   "source": [
    "#### Test:"
   ]
  },
  {
   "cell_type": "code",
   "execution_count": 167,
   "metadata": {},
   "outputs": [
    {
     "name": "stdout",
     "output_type": "stream",
     "text": [
      "<class 'pandas.core.frame.DataFrame'>\n",
      "RangeIndex: 3628260 entries, 0 to 3628259\n",
      "Data columns (total 19 columns):\n",
      "bike_id                    int64\n",
      "bike_share_for_all_trip    object\n",
      "duration_sec               int64\n",
      "end_station_id             object\n",
      "end_station_latitude       float64\n",
      "end_station_longitude      float64\n",
      "end_station_name           object\n",
      "end_time                   datetime64[ns]\n",
      "member_birth_year          int64\n",
      "member_gender              object\n",
      "rental_access_method       object\n",
      "start_station_id           object\n",
      "start_station_latitude     float64\n",
      "start_station_longitude    float64\n",
      "start_station_name         object\n",
      "start_time                 datetime64[ns]\n",
      "user_type                  object\n",
      "age                        int64\n",
      "distance                   float64\n",
      "dtypes: datetime64[ns](2), float64(5), int64(4), object(8)\n",
      "memory usage: 525.9+ MB\n"
     ]
    }
   ],
   "source": [
    "bikedata_df_copy.info()"
   ]
  },
  {
   "cell_type": "markdown",
   "metadata": {},
   "source": [
    "#### Define:\n",
    "\n"
   ]
  },
  {
   "cell_type": "markdown",
   "metadata": {},
   "source": [
    "#### Code:"
   ]
  },
  {
   "cell_type": "code",
   "execution_count": 168,
   "metadata": {},
   "outputs": [],
   "source": [
    "bikedata_df_copy = bikedata_df_copy.query('end_station_latitude != 0.00000')\n",
    "bikedata_df_copy = bikedata_df_copy.query('start_station_latitude != 0.00000')"
   ]
  },
  {
   "cell_type": "markdown",
   "metadata": {},
   "source": [
    "#### Test:"
   ]
  },
  {
   "cell_type": "code",
   "execution_count": 169,
   "metadata": {},
   "outputs": [
    {
     "data": {
      "text/html": [
       "<div>\n",
       "<style scoped>\n",
       "    .dataframe tbody tr th:only-of-type {\n",
       "        vertical-align: middle;\n",
       "    }\n",
       "\n",
       "    .dataframe tbody tr th {\n",
       "        vertical-align: top;\n",
       "    }\n",
       "\n",
       "    .dataframe thead th {\n",
       "        text-align: right;\n",
       "    }\n",
       "</style>\n",
       "<table border=\"1\" class=\"dataframe\">\n",
       "  <thead>\n",
       "    <tr style=\"text-align: right;\">\n",
       "      <th></th>\n",
       "      <th>bike_id</th>\n",
       "      <th>bike_share_for_all_trip</th>\n",
       "      <th>duration_sec</th>\n",
       "      <th>end_station_id</th>\n",
       "      <th>end_station_latitude</th>\n",
       "      <th>end_station_longitude</th>\n",
       "      <th>end_station_name</th>\n",
       "      <th>end_time</th>\n",
       "      <th>member_birth_year</th>\n",
       "      <th>member_gender</th>\n",
       "      <th>rental_access_method</th>\n",
       "      <th>start_station_id</th>\n",
       "      <th>start_station_latitude</th>\n",
       "      <th>start_station_longitude</th>\n",
       "      <th>start_station_name</th>\n",
       "      <th>start_time</th>\n",
       "      <th>user_type</th>\n",
       "      <th>age</th>\n",
       "      <th>distance</th>\n",
       "    </tr>\n",
       "  </thead>\n",
       "  <tbody>\n",
       "  </tbody>\n",
       "</table>\n",
       "</div>"
      ],
      "text/plain": [
       "Empty DataFrame\n",
       "Columns: [bike_id, bike_share_for_all_trip, duration_sec, end_station_id, end_station_latitude, end_station_longitude, end_station_name, end_time, member_birth_year, member_gender, rental_access_method, start_station_id, start_station_latitude, start_station_longitude, start_station_name, start_time, user_type, age, distance]\n",
       "Index: []"
      ]
     },
     "execution_count": 169,
     "metadata": {},
     "output_type": "execute_result"
    }
   ],
   "source": [
    "bikedata_df_copy.query('end_station_latitude == 0.00000')"
   ]
  },
  {
   "cell_type": "code",
   "execution_count": 170,
   "metadata": {},
   "outputs": [
    {
     "data": {
      "text/html": [
       "<div>\n",
       "<style scoped>\n",
       "    .dataframe tbody tr th:only-of-type {\n",
       "        vertical-align: middle;\n",
       "    }\n",
       "\n",
       "    .dataframe tbody tr th {\n",
       "        vertical-align: top;\n",
       "    }\n",
       "\n",
       "    .dataframe thead th {\n",
       "        text-align: right;\n",
       "    }\n",
       "</style>\n",
       "<table border=\"1\" class=\"dataframe\">\n",
       "  <thead>\n",
       "    <tr style=\"text-align: right;\">\n",
       "      <th></th>\n",
       "      <th>bike_id</th>\n",
       "      <th>bike_share_for_all_trip</th>\n",
       "      <th>duration_sec</th>\n",
       "      <th>end_station_id</th>\n",
       "      <th>end_station_latitude</th>\n",
       "      <th>end_station_longitude</th>\n",
       "      <th>end_station_name</th>\n",
       "      <th>end_time</th>\n",
       "      <th>member_birth_year</th>\n",
       "      <th>member_gender</th>\n",
       "      <th>rental_access_method</th>\n",
       "      <th>start_station_id</th>\n",
       "      <th>start_station_latitude</th>\n",
       "      <th>start_station_longitude</th>\n",
       "      <th>start_station_name</th>\n",
       "      <th>start_time</th>\n",
       "      <th>user_type</th>\n",
       "      <th>age</th>\n",
       "      <th>distance</th>\n",
       "    </tr>\n",
       "  </thead>\n",
       "  <tbody>\n",
       "  </tbody>\n",
       "</table>\n",
       "</div>"
      ],
      "text/plain": [
       "Empty DataFrame\n",
       "Columns: [bike_id, bike_share_for_all_trip, duration_sec, end_station_id, end_station_latitude, end_station_longitude, end_station_name, end_time, member_birth_year, member_gender, rental_access_method, start_station_id, start_station_latitude, start_station_longitude, start_station_name, start_time, user_type, age, distance]\n",
       "Index: []"
      ]
     },
     "execution_count": 170,
     "metadata": {},
     "output_type": "execute_result"
    }
   ],
   "source": [
    "bikedata_df_copy.query('start_station_latitude == 0.00000')"
   ]
  },
  {
   "cell_type": "markdown",
   "metadata": {},
   "source": [
    "#### Define:\n",
    "\n",
    "Since 99% of the data is under the age of 65 years, we will exclude bike ride data for users above 65 years of age."
   ]
  },
  {
   "cell_type": "markdown",
   "metadata": {},
   "source": [
    "#### Code:"
   ]
  },
  {
   "cell_type": "code",
   "execution_count": 171,
   "metadata": {},
   "outputs": [
    {
     "data": {
      "text/plain": [
       "count    3.628241e+06\n",
       "mean     3.329310e+01\n",
       "std      1.348744e+01\n",
       "min      0.000000e+00\n",
       "50%      3.300000e+01\n",
       "99%      6.500000e+01\n",
       "max      1.410000e+02\n",
       "Name: age, dtype: float64"
      ]
     },
     "execution_count": 171,
     "metadata": {},
     "output_type": "execute_result"
    }
   ],
   "source": [
    "# We can see that 99% of users are under the age of 65 years\n",
    "bikedata_df_copy['age'].describe(percentiles = [.99])"
   ]
  },
  {
   "cell_type": "code",
   "execution_count": 172,
   "metadata": {},
   "outputs": [],
   "source": [
    "bikedata_df_copy = bikedata_df_copy.query('age <= 65')"
   ]
  },
  {
   "cell_type": "markdown",
   "metadata": {},
   "source": [
    "#### Test:"
   ]
  },
  {
   "cell_type": "code",
   "execution_count": 173,
   "metadata": {},
   "outputs": [
    {
     "name": "stdout",
     "output_type": "stream",
     "text": [
      "<class 'pandas.core.frame.DataFrame'>\n",
      "Int64Index: 3594926 entries, 0 to 3628259\n",
      "Data columns (total 19 columns):\n",
      "bike_id                    int64\n",
      "bike_share_for_all_trip    object\n",
      "duration_sec               int64\n",
      "end_station_id             object\n",
      "end_station_latitude       float64\n",
      "end_station_longitude      float64\n",
      "end_station_name           object\n",
      "end_time                   datetime64[ns]\n",
      "member_birth_year          int64\n",
      "member_gender              object\n",
      "rental_access_method       object\n",
      "start_station_id           object\n",
      "start_station_latitude     float64\n",
      "start_station_longitude    float64\n",
      "start_station_name         object\n",
      "start_time                 datetime64[ns]\n",
      "user_type                  object\n",
      "age                        int64\n",
      "distance                   float64\n",
      "dtypes: datetime64[ns](2), float64(5), int64(4), object(8)\n",
      "memory usage: 548.5+ MB\n"
     ]
    }
   ],
   "source": [
    "bikedata_df_copy.info()"
   ]
  },
  {
   "cell_type": "markdown",
   "metadata": {},
   "source": [
    "#### Define:\n",
    "\n",
    "The member_gender column has various values for Male, Female and Other such as M, F, O and ?\n",
    "We will replace M by Male, F by Female and O and ? by Other using the replace function."
   ]
  },
  {
   "cell_type": "markdown",
   "metadata": {},
   "source": [
    "#### Code:"
   ]
  },
  {
   "cell_type": "code",
   "execution_count": 174,
   "metadata": {},
   "outputs": [],
   "source": [
    "bikedata_df_copy['member_gender'] = bikedata_df_copy['member_gender'].replace('M','Male')\n",
    "bikedata_df_copy['member_gender'] = bikedata_df_copy['member_gender'].replace('F','Female')\n",
    "bikedata_df_copy['member_gender'] = bikedata_df_copy['member_gender'].replace('O','Other')\n",
    "bikedata_df_copy['member_gender'] = bikedata_df_copy['member_gender'].replace('?','Other')"
   ]
  },
  {
   "cell_type": "markdown",
   "metadata": {},
   "source": [
    "#### Test:"
   ]
  },
  {
   "cell_type": "code",
   "execution_count": 175,
   "metadata": {},
   "outputs": [
    {
     "data": {
      "text/plain": [
       "Male      2481873\n",
       "Female     812975\n",
       "Other       54960\n",
       "Name: member_gender, dtype: int64"
      ]
     },
     "execution_count": 175,
     "metadata": {},
     "output_type": "execute_result"
    }
   ],
   "source": [
    "bikedata_df_copy['member_gender'].value_counts()"
   ]
  },
  {
   "cell_type": "markdown",
   "metadata": {},
   "source": [
    "### What is the structure of your dataset?\n",
    "\n",
    "> "
   ]
  },
  {
   "cell_type": "markdown",
   "metadata": {},
   "source": [
    "### What is/are the main feature(s) of interest in your dataset?"
   ]
  },
  {
   "cell_type": "markdown",
   "metadata": {},
   "source": [
    "### What features in the dataset do you think will help support your investigation into your feature(s) of interest?"
   ]
  },
  {
   "cell_type": "markdown",
   "metadata": {},
   "source": [
    "## Univariate Exploration\n",
    "\n",
    "> In this section, investigate distributions of individual variables. If\n",
    "you see unusual points or outliers, take a deeper look to clean things up\n",
    "and prepare yourself to look at relationships between variables."
   ]
  },
  {
   "cell_type": "markdown",
   "metadata": {},
   "source": [
    "> <b> Member_Age </b>"
   ]
  },
  {
   "cell_type": "code",
   "execution_count": 176,
   "metadata": {},
   "outputs": [
    {
     "data": {
      "text/plain": [
       "Text(0.5,1,'Bike Ride Count by User Age')"
      ]
     },
     "execution_count": 176,
     "metadata": {},
     "output_type": "execute_result"
    },
    {
     "data": {
      "image/png": "[encoded data removed]",
      "text/plain": [
       "<Figure size 576x360 with 1 Axes>"
      ]
     },
     "metadata": {},
     "output_type": "display_data"
    }
   ],
   "source": [
    "plt.figure(figsize = [8,5])\n",
    "bin_edges = np.arange(0,bikedata_df_copy['age'].max()+1,5)\n",
    "plt.hist(data = bikedata_df_copy, x='age', bins=bin_edges)\n",
    "plt.xlabel('Age (Years)')\n",
    "plt.ylabel('Bike Ride Count')\n",
    "plt.title('Bike Ride Count by User Age', fontsize = 12)\n"
   ]
  },
  {
   "cell_type": "markdown",
   "metadata": {},
   "source": [
    "The average mean age of users is 33 years. We observe that maximum users are in the age group of 30-35 years which concurs with our mean. The little spike we see at 0 years are those users whose Member_birth_year was not available and so their age was set to 0 years. We chose to ignore this spike."
   ]
  },
  {
   "cell_type": "markdown",
   "metadata": {},
   "source": [
    "> <b> Member Gender </b>"
   ]
  },
  {
   "cell_type": "code",
   "execution_count": 177,
   "metadata": {},
   "outputs": [
    {
     "data": {
      "text/plain": [
       "Text(0.5,1,'Bike Ride Count by User Gender')"
      ]
     },
     "execution_count": 177,
     "metadata": {},
     "output_type": "execute_result"
    },
    {
     "data": {
      "image/png": "[encoded data removed]",
      "text/plain": [
       "<Figure size 576x360 with 1 Axes>"
      ]
     },
     "metadata": {},
     "output_type": "display_data"
    }
   ],
   "source": [
    "plt.figure(figsize = [8,5])\n",
    "sorted_counts = bikedata_df_copy['member_gender'].value_counts()\n",
    "plt.pie(sorted_counts, labels = sorted_counts.index, startangle = 90,\n",
    "        counterclock = False, autopct = '%.2f')\n",
    "plt.axis('square')\n",
    "plt.title('Bike Ride Count by User Gender', fontsize = 12)"
   ]
  },
  {
   "cell_type": "markdown",
   "metadata": {},
   "source": [
    "We observe that a majority of our users are Males, more accurately 74.09% as compared to Females (24.27%). The Other gender counts rides taken by users that did not share their gender with us or did not confirm to either Male or Female."
   ]
  },
  {
   "cell_type": "code",
   "execution_count": 245,
   "metadata": {},
   "outputs": [],
   "source": [
    "# We extract year, month, weekday and hour from the start_time variable to \n",
    "bikedata_df_copy['year'] = bikedata_df_copy['start_time'].dt.year\n",
    "bikedata_df_copy['month'] = bikedata_df_copy['start_time'].dt.month\n",
    "bikedata_df_copy['weekday'] = bikedata_df_copy['start_time'].dt.weekday\n",
    "bikedata_df_copy['hour'] = bikedata_df_copy['start_time'].dt.hour"
   ]
  },
  {
   "cell_type": "markdown",
   "metadata": {},
   "source": [
    "> <b> Bike Ride Data By Year </b>"
   ]
  },
  {
   "cell_type": "code",
   "execution_count": 179,
   "metadata": {},
   "outputs": [
    {
     "data": {
      "text/plain": [
       "Text(0.5,1,'Bike Ride Count by Year')"
      ]
     },
     "execution_count": 179,
     "metadata": {},
     "output_type": "execute_result"
    },
    {
     "data": {
      "image/png": "[encoded data removed]",
      "text/plain": [
       "<Figure size 432x288 with 1 Axes>"
      ]
     },
     "metadata": {},
     "output_type": "display_data"
    }
   ],
   "source": [
    "plt.figure(figsize = [6,4])\n",
    "sb.countplot(data = bikedata_df_copy, x = 'year', color = 'teal')\n",
    "plt.xlabel('Year')\n",
    "plt.ylabel('Bike Ride Count')\n",
    "plt.title('Bike Ride Count by Year', fontsize = 12)\n"
   ]
  },
  {
   "cell_type": "markdown",
   "metadata": {},
   "source": [
    "We observe that most rides were taken in the year 2018. However we still do not have complete data for 2019, so this is true only for the current data."
   ]
  },
  {
   "cell_type": "markdown",
   "metadata": {},
   "source": [
    "> <b> Bike Ride Data by Month </b>"
   ]
  },
  {
   "cell_type": "code",
   "execution_count": 180,
   "metadata": {},
   "outputs": [
    {
     "data": {
      "text/plain": [
       "([<matplotlib.axis.XTick at 0x1a712a4a50>,\n",
       "  <matplotlib.axis.XTick at 0x1a71257f50>,\n",
       "  <matplotlib.axis.XTick at 0x1a7121a310>,\n",
       "  <matplotlib.axis.XTick at 0x1a7179ca90>,\n",
       "  <matplotlib.axis.XTick at 0x1a717ed550>,\n",
       "  <matplotlib.axis.XTick at 0x1a92b5b050>,\n",
       "  <matplotlib.axis.XTick at 0x1a7187c210>,\n",
       "  <matplotlib.axis.XTick at 0x1a75036090>,\n",
       "  <matplotlib.axis.XTick at 0x1a7507bb10>,\n",
       "  <matplotlib.axis.XTick at 0x1a750b8d10>,\n",
       "  <matplotlib.axis.XTick at 0x1a75109b50>,\n",
       "  <matplotlib.axis.XTick at 0x1a75093e90>],\n",
       " <a list of 12 Text xticklabel objects>)"
      ]
     },
     "execution_count": 180,
     "metadata": {},
     "output_type": "execute_result"
    },
    {
     "data": {
      "image/png": "[encoded data removed]",
      "text/plain": [
       "<Figure size 720x576 with 1 Axes>"
      ]
     },
     "metadata": {},
     "output_type": "display_data"
    }
   ],
   "source": [
    "plt.figure(figsize = [10,8])\n",
    "sb.countplot(data = bikedata_df_copy, x = 'month', color = 'teal')\n",
    "plt.xlabel('Month')\n",
    "plt.ylabel('Bike Ride Count')\n",
    "plt.title('Bike Ride Count by Month', fontsize = 12)\n",
    "plt.xticks(np.arange(0,12,1),['January','February','March','April','May','June','July','August','September','October','November','December'], rotation = 70)\n"
   ]
  },
  {
   "cell_type": "markdown",
   "metadata": {},
   "source": [
    "Most rides are taken by users in the month of June, followed by April, March and May. \n",
    "This is the time when it begins to get warmer so the increased bike rides are normal. Another small spike is observed in October which is Fall season. As the temperature goes down a little, maybe users begin riding again untill it gets colder."
   ]
  },
  {
   "cell_type": "markdown",
   "metadata": {},
   "source": [
    "> <b> Bike Ride Data by Weekday </b>"
   ]
  },
  {
   "cell_type": "code",
   "execution_count": 181,
   "metadata": {},
   "outputs": [
    {
     "data": {
      "text/plain": [
       "([<matplotlib.axis.XTick at 0x1a7555b0d0>,\n",
       "  <matplotlib.axis.XTick at 0x1a75508290>,\n",
       "  <matplotlib.axis.XTick at 0x1a710c2790>,\n",
       "  <matplotlib.axis.XTick at 0x1a7598a7d0>,\n",
       "  <matplotlib.axis.XTick at 0x1a759e0290>,\n",
       "  <matplotlib.axis.XTick at 0x1a75a20110>,\n",
       "  <matplotlib.axis.XTick at 0x1a92c0e050>],\n",
       " <a list of 7 Text xticklabel objects>)"
      ]
     },
     "execution_count": 181,
     "metadata": {},
     "output_type": "execute_result"
    },
    {
     "data": {
      "image/png": "[encoded data removed]",
      "text/plain": [
       "<Figure size 576x432 with 1 Axes>"
      ]
     },
     "metadata": {},
     "output_type": "display_data"
    }
   ],
   "source": [
    "plt.figure(figsize = [8,6])\n",
    "sb.countplot(data = bikedata_df_copy, x = 'weekday', color = 'teal')\n",
    "plt.xlabel('Weekday')\n",
    "plt.ylabel('Bike Ride Count')\n",
    "plt.title('Bike Ride Count by Weekday', fontsize = 12)\n",
    "plt.xticks(np.arange(0,7,1),['Monday','Tuesday','Wednesday','Thursday','Friday','Saturday','Sunday'], rotation = 70)\n"
   ]
  },
  {
   "cell_type": "markdown",
   "metadata": {},
   "source": [
    "We observe that most rides are taken on Thursday followed by other days during the week. This reiterates te fact that most bike rides are undertaken to head to work/school and not for leisure"
   ]
  },
  {
   "cell_type": "markdown",
   "metadata": {},
   "source": [
    "> <b> Bike Ride Data by Weekday </b>"
   ]
  },
  {
   "cell_type": "code",
   "execution_count": 182,
   "metadata": {},
   "outputs": [
    {
     "data": {
      "text/plain": [
       "([<matplotlib.axis.XTick at 0x1a75e6a9d0>,\n",
       "  <matplotlib.axis.XTick at 0x1a75e2bed0>,\n",
       "  <matplotlib.axis.XTick at 0x1a75dd4990>,\n",
       "  <matplotlib.axis.XTick at 0x1a766080d0>,\n",
       "  <matplotlib.axis.XTick at 0x1a7663bb10>,\n",
       "  <matplotlib.axis.XTick at 0x1a76697950>,\n",
       "  <matplotlib.axis.XTick at 0x1a766d57d0>,\n",
       "  <matplotlib.axis.XTick at 0x1a76731610>,\n",
       "  <matplotlib.axis.XTick at 0x1a76771490>,\n",
       "  <matplotlib.axis.XTick at 0x1a767ce2d0>,\n",
       "  <matplotlib.axis.XTick at 0x1a7680c150>,\n",
       "  <matplotlib.axis.XTick at 0x1a7673fb50>,\n",
       "  <matplotlib.axis.XTick at 0x1a76615250>,\n",
       "  <matplotlib.axis.XTick at 0x1a7683e150>,\n",
       "  <matplotlib.axis.XTick at 0x1a7688ff50>,\n",
       "  <matplotlib.axis.XTick at 0x1a768cfdd0>,\n",
       "  <matplotlib.axis.XTick at 0x1a7692bc10>,\n",
       "  <matplotlib.axis.XTick at 0x1a7696ba90>,\n",
       "  <matplotlib.axis.XTick at 0x1a769aa8d0>,\n",
       "  <matplotlib.axis.XTick at 0x1a76a06750>,\n",
       "  <matplotlib.axis.XTick at 0x1a769b6710>,\n",
       "  <matplotlib.axis.XTick at 0x1a768a9c10>,\n",
       "  <matplotlib.axis.XTick at 0x1a767daf10>,\n",
       "  <matplotlib.axis.XTick at 0x1a76a89750>],\n",
       " <a list of 24 Text xticklabel objects>)"
      ]
     },
     "execution_count": 182,
     "metadata": {},
     "output_type": "execute_result"
    },
    {
     "data": {
      "image/png": "[encoded data removed]",
      "text/plain": [
       "<Figure size 720x576 with 1 Axes>"
      ]
     },
     "metadata": {},
     "output_type": "display_data"
    }
   ],
   "source": [
    "plt.figure(figsize = [10,8])\n",
    "sb.countplot(data = bikedata_df_copy, x = 'hour', color = 'teal')\n",
    "plt.xlabel('Hour of the Day')\n",
    "plt.ylabel('Bike Ride Count')\n",
    "plt.title('Bike Ride Count by Hour of the Day', fontsize = 12)\n",
    "plt.xticks(np.arange(0,24,1),['12am','1am','2am','3am','4am','5am','6am','7am','8am','9am','10am','11am','12pm','1pm','2pm','3pm','4pm','5pm','6pm','7pm','8pm','9pm','10pm','11pm'], rotation = 70)\n"
   ]
  },
  {
   "cell_type": "markdown",
   "metadata": {},
   "source": [
    "We observe that most bike rides are taken between 5-6pm in the evening followed by 8-9am in the morning. This confirms that most rides are taken by users to travel to work/college."
   ]
  },
  {
   "cell_type": "markdown",
   "metadata": {},
   "source": [
    "> <b> Distance between start and end stations </b>"
   ]
  },
  {
   "cell_type": "code",
   "execution_count": 183,
   "metadata": {},
   "outputs": [
    {
     "data": {
      "text/plain": [
       "Text(0.5,1,'Bike Ride Count by Distance')"
      ]
     },
     "execution_count": 183,
     "metadata": {},
     "output_type": "execute_result"
    },
    {
     "data": {
      "image/png": "[encoded data removed]",
      "text/plain": [
       "<Figure size 576x432 with 1 Axes>"
      ]
     },
     "metadata": {},
     "output_type": "display_data"
    }
   ],
   "source": [
    "plt.figure(figsize = [8,6])\n",
    "bin_edges = np.arange(0, bikedata_df_copy['distance'].max()+1, 0.5)\n",
    "plt.hist(data = bikedata_df_copy, x = 'distance', color = 'teal', bins = bin_edges)\n",
    "plt.xscale('log')\n",
    "plt.xlabel('Distance')\n",
    "plt.ylabel('Bike Ride Count')\n",
    "plt.title('Bike Ride Count by Distance', fontsize = 12)\n",
    "#plt.xticks(['0','1','2','3','4','5','6','7','8','9','10','20','30','40','50','60','70','80','90','100'])"
   ]
  },
  {
   "cell_type": "code",
   "execution_count": null,
   "metadata": {},
   "outputs": [],
   "source": []
  },
  {
   "cell_type": "markdown",
   "metadata": {},
   "source": [
    "> <b> Bike Ride Data by User Type </b>"
   ]
  },
  {
   "cell_type": "code",
   "execution_count": 184,
   "metadata": {},
   "outputs": [
    {
     "data": {
      "text/plain": [
       "Text(0.5,1,'Bike Ride Percentage by User Type')"
      ]
     },
     "execution_count": 184,
     "metadata": {},
     "output_type": "execute_result"
    },
    {
     "data": {
      "image/png": "[encoded data removed]",
      "text/plain": [
       "<Figure size 576x360 with 1 Axes>"
      ]
     },
     "metadata": {},
     "output_type": "display_data"
    }
   ],
   "source": [
    "plt.figure(figsize = [8,5])\n",
    "sorted_counts = bikedata_df_copy['user_type'].value_counts()\n",
    "plt.pie(sorted_counts, labels = sorted_counts.index, startangle = 90,\n",
    "        counterclock = False, autopct = '%.2f')\n",
    "plt.axis('square')\n",
    "plt.title('Bike Ride Percentage by User Type', fontsize = 12)"
   ]
  },
  {
   "cell_type": "markdown",
   "metadata": {},
   "source": [
    "We observe that most users are subscribers and a small percentage of users are customers since subscribing to Bay Wheels Service works out cheaper than paying for individual bike rides. "
   ]
  },
  {
   "cell_type": "markdown",
   "metadata": {},
   "source": [
    "### Discuss the distribution(s) of your variable(s) of interest. Were there any unusual points? Did you need to perform any transformations?\n",
    "\n",
    "> The distributions for most of the variables of interest were normal and followed the trends that we expected. Most bike rides were taken by adults heading to work/school on a weekday around 8-9am in the morning and returning from work around 5-6pm in the evening. Most bike rides were taken by Males as opposed to Females.<br>\n",
    "We did see an unusual spike for age at 0 years. However this represented the bike rides for which member_birth_year was not available, so we chose to ignore it.<br>\n",
    "The distribution for distance covered by bike rides was concentrated between 0 to 10 miles but also had values close to 50 miles. We had to apply the log transformation on the x-axis inorder to visualise the data correctly.\n",
    "\n",
    "### Of the features you investigated, were there any unusual distributions? Did you perform any operations on the data to tidy, adjust, or change the form of the data? If so, why did you do this?\n",
    "\n",
    "> There were no unusual distributions in the features we investigated. <br>\n",
    "We did tidy up the data for distance by excluding rows where the start_station_latitude or end_station_latitude == 0.<br>\n",
    "We extracted year, month, day and hour time part from the start_time variable in order to visualize data based on various time components."
   ]
  },
  {
   "cell_type": "markdown",
   "metadata": {},
   "source": [
    "## Bivariate Exploration\n",
    "\n",
    "> In this section, investigate relationships between pairs of variables in your\n",
    "data. Make sure the variables that you cover here have been introduced in some\n",
    "fashion in the previous section (univariate exploration)."
   ]
  },
  {
   "cell_type": "markdown",
   "metadata": {},
   "source": [
    "> <b> Bike Ride Data by Month and User_Type </b>"
   ]
  },
  {
   "cell_type": "code",
   "execution_count": 185,
   "metadata": {},
   "outputs": [
    {
     "data": {
      "text/plain": [
       "([<matplotlib.axis.XTick at 0x1a79dc9d50>,\n",
       "  <matplotlib.axis.XTick at 0x1a79d602d0>,\n",
       "  <matplotlib.axis.XTick at 0x1a79d15610>,\n",
       "  <matplotlib.axis.XTick at 0x1a7a68f090>,\n",
       "  <matplotlib.axis.XTick at 0x1a7a6fab10>,\n",
       "  <matplotlib.axis.XTick at 0x1a7a73b990>,\n",
       "  <matplotlib.axis.XTick at 0x1a7a7b57d0>,\n",
       "  <matplotlib.axis.XTick at 0x1a7a7f3650>,\n",
       "  <matplotlib.axis.XTick at 0x1a7a86f490>,\n",
       "  <matplotlib.axis.XTick at 0x1a7a8ad310>,\n",
       "  <matplotlib.axis.XTick at 0x1a7a927150>,\n",
       "  <matplotlib.axis.XTick at 0x1a7a95afd0>],\n",
       " <a list of 12 Text xticklabel objects>)"
      ]
     },
     "execution_count": 185,
     "metadata": {},
     "output_type": "execute_result"
    },
    {
     "data": {
      "image/png": "[encoded data removed]",
      "text/plain": [
       "<Figure size 576x432 with 1 Axes>"
      ]
     },
     "metadata": {},
     "output_type": "display_data"
    }
   ],
   "source": [
    "plt.figure(figsize = [8,6])\n",
    "sb.countplot(data = bikedata_df_copy, x = 'month',hue = 'user_type',palette = 'viridis_r')\n",
    "plt.xlabel('Month')\n",
    "plt.ylabel('Bike Ride Count')\n",
    "plt.title('Bike Ride Count by Month and User Type', fontsize = 12)\n",
    "plt.xticks(np.arange(0,12,1),['January','February','March','April','May','June','July','August','September','October','November','December'], rotation = 70)\n"
   ]
  },
  {
   "cell_type": "markdown",
   "metadata": {},
   "source": [
    "> <b> Bike Ride Data by Weekday and User_Type"
   ]
  },
  {
   "cell_type": "code",
   "execution_count": 186,
   "metadata": {},
   "outputs": [
    {
     "data": {
      "text/plain": [
       "([<matplotlib.axis.XTick at 0x1a7aec5850>,\n",
       "  <matplotlib.axis.XTick at 0x1a7ad3d0d0>,\n",
       "  <matplotlib.axis.XTick at 0x1a7a5be3d0>,\n",
       "  <matplotlib.axis.XTick at 0x1a7b50b710>,\n",
       "  <matplotlib.axis.XTick at 0x1a7b54b1d0>,\n",
       "  <matplotlib.axis.XTick at 0x1a7b57ed50>,\n",
       "  <matplotlib.axis.XTick at 0x1a7b3fbe50>],\n",
       " <a list of 7 Text xticklabel objects>)"
      ]
     },
     "execution_count": 186,
     "metadata": {},
     "output_type": "execute_result"
    },
    {
     "data": {
      "image/png": "[encoded data removed]",
      "text/plain": [
       "<Figure size 432x288 with 1 Axes>"
      ]
     },
     "metadata": {},
     "output_type": "display_data"
    }
   ],
   "source": [
    "sb.countplot(data = bikedata_df_copy, x = 'weekday',hue = 'user_type', palette = 'viridis_r')\n",
    "plt.xlabel('Weekday')\n",
    "plt.ylabel('Bike Ride Count')\n",
    "plt.title('Bike Ride Count by Weekday', fontsize = 12)\n",
    "plt.xticks(np.arange(0,7,1),['Monday','Tuesday','Wednesday','Thursday','Friday','Saturday','Sunday'], rotation = 70)\n"
   ]
  },
  {
   "cell_type": "markdown",
   "metadata": {},
   "source": [
    "We observe that more subscriber take bike rides during the weekdays, while customers take the highest number of rides on Saturday and Sunday. This shows that people who subscribe to the bike service usually do so when they plan to bike to work or use it for commuting. Customers usually use the bike rides for leisure purposes on the weekend or are tourists who take a random bike ride"
   ]
  },
  {
   "cell_type": "markdown",
   "metadata": {},
   "source": [
    "> <b> Bike Ride Data by Hour of the Day and User_Type </b>"
   ]
  },
  {
   "cell_type": "code",
   "execution_count": 187,
   "metadata": {},
   "outputs": [
    {
     "data": {
      "text/plain": [
       "([<matplotlib.axis.XTick at 0x1a7b994c90>,\n",
       "  <matplotlib.axis.XTick at 0x1a7b963210>,\n",
       "  <matplotlib.axis.XTick at 0x1a7b78f550>,\n",
       "  <matplotlib.axis.XTick at 0x1a7c3b0c10>,\n",
       "  <matplotlib.axis.XTick at 0x1a7c3ef6d0>,\n",
       "  <matplotlib.axis.XTick at 0x1a7c42d550>,\n",
       "  <matplotlib.axis.XTick at 0x1a7c46c390>,\n",
       "  <matplotlib.axis.XTick at 0x1a93283050>,\n",
       "  <matplotlib.axis.XTick at 0x1a7c353d50>,\n",
       "  <matplotlib.axis.XTick at 0x1a7c525e90>,\n",
       "  <matplotlib.axis.XTick at 0x1a7c564cd0>,\n",
       "  <matplotlib.axis.XTick at 0x1a7c3783d0>,\n",
       "  <matplotlib.axis.XTick at 0x1a7c43ba90>,\n",
       "  <matplotlib.axis.XTick at 0x1a7c597d50>,\n",
       "  <matplotlib.axis.XTick at 0x1a7c5d4b50>,\n",
       "  <matplotlib.axis.XTick at 0x1a7c613610>,\n",
       "  <matplotlib.axis.XTick at 0x1a7c489810>,\n",
       "  <matplotlib.axis.XTick at 0x1a7c4c7650>,\n",
       "  <matplotlib.axis.XTick at 0x1a7c6dc4d0>,\n",
       "  <matplotlib.axis.XTick at 0x1a7c71b310>,\n",
       "  <matplotlib.axis.XTick at 0x1a7c75b190>,\n",
       "  <matplotlib.axis.XTick at 0x1a7c4d2b90>,\n",
       "  <matplotlib.axis.XTick at 0x1a7c5b0290>,\n",
       "  <matplotlib.axis.XTick at 0x1a7c773c10>],\n",
       " <a list of 24 Text xticklabel objects>)"
      ]
     },
     "execution_count": 187,
     "metadata": {},
     "output_type": "execute_result"
    },
    {
     "data": {
      "image/png": "[encoded data removed]",
      "text/plain": [
       "<Figure size 720x576 with 1 Axes>"
      ]
     },
     "metadata": {},
     "output_type": "display_data"
    }
   ],
   "source": [
    "plt.figure(figsize = [10,8])\n",
    "sb.countplot(data = bikedata_df_copy, x = 'hour',hue = 'user_type', palette = 'viridis_r')\n",
    "plt.xlabel('Hour of the Day')\n",
    "plt.ylabel('Bike Ride Count')\n",
    "plt.title('Bike Ride Count by Hour of the Day and User_Type', fontsize = 12)\n",
    "plt.xticks(np.arange(0,24,1),['12am','1am','2am','3am','4am','5am','6am','7am','8am','9am','10am','11am','12pm','1pm','2pm','3pm','4pm','5pm','6pm','7pm','8pm','9pm','10pm','11pm'], rotation = 70)\n"
   ]
  },
  {
   "cell_type": "markdown",
   "metadata": {},
   "source": [
    "Most subscribers complete their bike rides between 8-9am and 5-6pm. However customers completed most of their bike rides around 5pm closely followed by 4 and 6pm."
   ]
  },
  {
   "cell_type": "markdown",
   "metadata": {},
   "source": [
    "> <b> Distance of bike rides by User Type </b>"
   ]
  },
  {
   "cell_type": "code",
   "execution_count": 188,
   "metadata": {},
   "outputs": [],
   "source": [
    "# We convert the duration in seconds to duration in minutes.\n",
    "bikedata_df_copy['duration_min'] = bikedata_df_copy['duration_sec']/60"
   ]
  },
  {
   "cell_type": "code",
   "execution_count": 189,
   "metadata": {},
   "outputs": [
    {
     "data": {
      "text/plain": [
       "count    3.594926e+06\n",
       "mean     1.448711e+01\n",
       "std      4.031727e+01\n",
       "min      1.000000e+00\n",
       "50%      9.333333e+00\n",
       "99%      9.544583e+01\n",
       "max      1.439483e+03\n",
       "Name: duration_min, dtype: float64"
      ]
     },
     "execution_count": 189,
     "metadata": {},
     "output_type": "execute_result"
    }
   ],
   "source": [
    "bikedata_df_copy['duration_min'].describe(percentiles = [.99])"
   ]
  },
  {
   "cell_type": "code",
   "execution_count": 190,
   "metadata": {},
   "outputs": [],
   "source": [
    "# Since 99% of the data lies below 9.54 mins, we exclude data byond that values.\n",
    "bikedata_df_copy = bikedata_df_copy.query('duration_min <= 95.44')"
   ]
  },
  {
   "cell_type": "code",
   "execution_count": 239,
   "metadata": {},
   "outputs": [
    {
     "data": {
      "text/plain": [
       "Text(0.5,1,'Bike Ride Data by Duration and User Type')"
      ]
     },
     "execution_count": 239,
     "metadata": {},
     "output_type": "execute_result"
    },
    {
     "data": {
      "image/png": "[encoded data removed]",
      "text/plain": [
       "<Figure size 576x432 with 1 Axes>"
      ]
     },
     "metadata": {},
     "output_type": "display_data"
    }
   ],
   "source": [
    "plt.figure(figsize = [8,6])\n",
    "sb.boxplot(data = bikedata_df_copy, x = 'user_type', y = 'duration_min', palette = 'viridis')\n",
    "plt.xlabel('User Type')\n",
    "plt.ylabel('Ride Duration (Mins)')\n",
    "plt.title('Bike Ride Data by Duration and User Type')"
   ]
  },
  {
   "cell_type": "markdown",
   "metadata": {},
   "source": [
    "From the visualization, we can observe that Customers usually have longer ride times than Subscribers. We can infer that Customer take rides for leisure or during vacations which can be longer while Subscribers prefer shorter rides for commuting everyday in the week."
   ]
  },
  {
   "cell_type": "markdown",
   "metadata": {},
   "source": [
    "> <b> Bike Ride Duration By Member Age </b>"
   ]
  },
  {
   "cell_type": "code",
   "execution_count": 226,
   "metadata": {},
   "outputs": [
    {
     "data": {
      "text/plain": [
       "Text(0.5,1,'Bike Ride Duration By Member Age')"
      ]
     },
     "execution_count": 226,
     "metadata": {},
     "output_type": "execute_result"
    },
    {
     "data": {
      "image/png": "[encoded data removed]",
      "text/plain": [
       "<Figure size 432x288 with 2 Axes>"
      ]
     },
     "metadata": {},
     "output_type": "display_data"
    }
   ],
   "source": [
    "bins_x = np.arange(10, 65+1, 5)\n",
    "bins_y = np.arange(0, 45, 5)\n",
    "plt.hist2d(data = bikedata_df_copy, x = 'age', y = 'duration_min',\n",
    "           bins = [bins_x, bins_y], cmap = 'viridis_r', cmin = 0.5)\n",
    "plt.colorbar()\n",
    "plt.xlabel('Member Age (Years)')\n",
    "plt.ylabel('Ride Duration (Minutes)')\n",
    "plt.title('Bike Ride Duration By Member Age')\n"
   ]
  },
  {
   "cell_type": "markdown",
   "metadata": {},
   "source": [
    "We observe that most rides are taken by member between 30-35 years of age and these rise last between 5-10 minutes"
   ]
  },
  {
   "cell_type": "markdown",
   "metadata": {},
   "source": [
    "> <b> Member Age Data by User Type </b>"
   ]
  },
  {
   "cell_type": "code",
   "execution_count": 242,
   "metadata": {},
   "outputs": [
    {
     "data": {
      "text/plain": [
       "Text(0.5,1,'Member Age by User Type')"
      ]
     },
     "execution_count": 242,
     "metadata": {},
     "output_type": "execute_result"
    },
    {
     "data": {
      "image/png": "[encoded data removed]",
      "text/plain": [
       "<Figure size 576x432 with 1 Axes>"
      ]
     },
     "metadata": {},
     "output_type": "display_data"
    }
   ],
   "source": [
    "plt.figure(figsize = [8,6])\n",
    "sb.boxplot(data = bikedata_df_copy, x = 'user_type', y = 'age', palette = 'viridis')\n",
    "plt.xlabel('User Type')\n",
    "plt.ylabel('Age (Years)')\n",
    "plt.title('Member Age by User Type')"
   ]
  },
  {
   "cell_type": "markdown",
   "metadata": {},
   "source": [
    "### Talk about some of the relationships you observed in this part of the investigation. How did the feature(s) of interest vary with other features in the dataset?\n",
    "\n",
    "> We observed that Customers and Subscribers had different patterns of completing rides in the day. While Subscribers took more rides in the morning between 8-9am and evening between 5-6pm, Customers took more rides around 5pm in the evening which reduced tapering away towards the morning.  Another intersting fact that showed up was that Customers took more rides over the weekend while Subscribers took rides on the weekday like Monday to Friday. This shows Customer and Subscribers have distinctly different reasons for taking rides. We observe that customers usually have longer ride durations that subscribers.\n",
    "\n",
    "### Did you observe any interesting relationships between the other features (not the main feature(s) of interest)?\n",
    "\n",
    ">We observed that the age distribution for Customer User type is quite varied and spread out but there is a larger population of customers below the median age value. The median age for Customers is below 30 years. Subscriber on the otther end have a small age group of people with median age value for this group being slightly above 30 years old."
   ]
  },
  {
   "cell_type": "markdown",
   "metadata": {},
   "source": [
    "## Multivariate Exploration\n",
    "\n",
    "> Create plots of three or more variables to investigate your data even\n",
    "further. Make sure that your investigations are justified, and follow from\n",
    "your work in the previous sections."
   ]
  },
  {
   "cell_type": "markdown",
   "metadata": {},
   "source": [
    "> <b> We plot Bike Ride Count By User Type against Different Age Groups using Age variable </b>"
   ]
  },
  {
   "cell_type": "code",
   "execution_count": 250,
   "metadata": {},
   "outputs": [],
   "source": [
    "# We bin the age variable into age groups using the cut() function\n",
    "bikedata_df_copy['age_group'] = pd.cut(x=bikedata_df_copy['age'], bins=[0, 9, 19, 29, 39, 49, 59, 65], labels=['0-9years', '10-19years', '20-29', '30-39','40-49','50-59','60-65'])"
   ]
  },
  {
   "cell_type": "code",
   "execution_count": 255,
   "metadata": {},
   "outputs": [
    {
     "data": {
      "text/plain": [
       "Text(-21.325,0.5,'Bike Ride Count')"
      ]
     },
     "execution_count": 255,
     "metadata": {},
     "output_type": "execute_result"
    },
    {
     "data": {
      "image/png": "[encoded data removed]",
      "text/plain": [
       "<Figure size 1296x1296 with 7 Axes>"
      ]
     },
     "metadata": {},
     "output_type": "display_data"
    }
   ],
   "source": [
    "g = sb.FacetGrid(data = bikedata_df_copy, col = 'age_group', height = 6, col_wrap = 3)\n",
    "g.map(sb.countplot, 'user_type')\n",
    "plt.xlabel('User Type')\n",
    "plt.ylabel('Bike Ride Count')"
   ]
  },
  {
   "cell_type": "markdown",
   "metadata": {},
   "source": [
    "We observe that most Customers are in the age group of 20-29 years while most Subscribers are in the age group of 30-39 years. This can be used while targetting membership options to certain individuals."
   ]
  },
  {
   "cell_type": "markdown",
   "metadata": {},
   "source": [
    "### Talk about some of the relationships you observed in this part of the investigation. Were there features that strengthened each other in terms of looking at your feature(s) of interest?\n",
    "\n",
    "> Your answer here!\n",
    "\n",
    "### Were there any interesting or surprising interactions between features?\n",
    "\n",
    "> Your answer here!"
   ]
  },
  {
   "cell_type": "markdown",
   "metadata": {},
   "source": [
    "> At the end of your report, make sure that you export the notebook as an\n",
    "html file from the `File > Download as... > HTML` menu. Make sure you keep\n",
    "track of where the exported file goes, so you can put it in the same folder\n",
    "as this notebook for project submission. Also, make sure you remove all of\n",
    "the quote-formatted guide notes like this one before you finish your report!"
   ]
  },
  {
   "cell_type": "code",
   "execution_count": null,
   "metadata": {},
   "outputs": [],
   "source": []
  }
 ],
 "metadata": {
  "kernelspec": {
   "display_name": "Python 2",
   "language": "python",
   "name": "python2"
  },
  "language_info": {
   "codemirror_mode": {
    "name": "ipython",
    "version": 2
   },
   "file_extension": ".py",
   "mimetype": "text/x-python",
   "name": "python",
   "nbconvert_exporter": "python",
   "pygments_lexer": "ipython2",
   "version": "2.7.14"
  }
 },
 "nbformat": 4,
 "nbformat_minor": 2
}
