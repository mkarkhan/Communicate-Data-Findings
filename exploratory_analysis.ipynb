{
 "cells": [
  {
   "cell_type": "markdown",
   "metadata": {},
   "source": [
    "# Bay Wheels Bike Data Exploration\n",
    "## by Mrunal Karkhanis\n",
    "\n",
    "## Preliminary Wrangling\n",
    "\n",
    "> Briefly introduce your dataset here."
   ]
  },
  {
   "cell_type": "code",
   "execution_count": 13,
   "metadata": {},
   "outputs": [],
   "source": [
    "# import all packages and set plots to be embedded inline\n",
    "import numpy as np\n",
    "import pandas as pd\n",
    "import matplotlib.pyplot as plt\n",
    "import seaborn as sb\n",
    "\n",
    "%matplotlib inline"
   ]
  },
  {
   "cell_type": "markdown",
   "metadata": {},
   "source": [
    "> Load in your dataset and describe its properties through the questions below.\n",
    "Try and motivate your exploration goals through this section."
   ]
  },
  {
   "cell_type": "code",
   "execution_count": 14,
   "metadata": {},
   "outputs": [],
   "source": [
    "import urllib\n",
    "import requests\n",
    "import os\n",
    "import io\n",
    "import xml.etree.ElementTree as ET \n",
    "import zipfile\n",
    "from glob import glob\n",
    "\n",
    "def loadXML(): \n",
    "  \n",
    "    # url of data\n",
    "    url = 'https://s3.amazonaws.com/baywheels-data'\n",
    "  \n",
    "    # creating HTTP response object from given url \n",
    "    response = requests.get(url) \n",
    "  \n",
    "    # saving the xml file \n",
    "    with open('baywheels-data.xml', 'wb') as f: \n",
    "        f.write(response.content) "
   ]
  },
  {
   "cell_type": "code",
   "execution_count": 15,
   "metadata": {},
   "outputs": [],
   "source": [
    "def parse_XML(data): \n",
    "    # create Element Tree object\n",
    "    tree = ET.parse(data)\n",
    "    # get root element \n",
    "    root = tree.getroot() \n",
    "    # create list to store file names\n",
    "    filenames = [] \n",
    "    # obtain child nodes of Element Tree\n",
    "    children = root.getchildren()\n",
    "    for child in children:\n",
    "        for element in child:\n",
    "            if (element.tag) == '{http://s3.amazonaws.com/doc/2006-03-01/}Key':\n",
    "                name = element.text.encode('utf8') \n",
    "                # We use find method to exclude the index.html file\n",
    "                if name.find('.html') == -1:\n",
    "                    filenames.append(name)\n",
    "    return filenames"
   ]
  },
  {
   "cell_type": "code",
   "execution_count": 16,
   "metadata": {},
   "outputs": [],
   "source": [
    "def createURL(name):\n",
    "    url_list = []\n",
    "    for i in name:\n",
    "        url_list.append(\"https://s3.amazonaws.com/baywheels-data/\"+i)\n",
    "    return url_list"
   ]
  },
  {
   "cell_type": "code",
   "execution_count": 17,
   "metadata": {},
   "outputs": [],
   "source": [
    "# Make directory if it doesn't already exist\n",
    "folder_name = 'baywheels_ride_data'\n",
    "if not os.path.exists(folder_name):\n",
    "    os.makedirs(folder_name)"
   ]
  },
  {
   "cell_type": "code",
   "execution_count": 18,
   "metadata": {},
   "outputs": [],
   "source": [
    "def downloadfile(urllist):\n",
    "    for url in urllist:\n",
    "        if url.find('.zip') == -1:\n",
    "            response = requests.get(url)\n",
    "            with open(os.path.join(folder_name,url.split('/')[-1]),mode ='wb') as file:\n",
    "                file.write(response.content)\n",
    "        else:\n",
    "            response = requests.get(url)\n",
    "            csv = zipfile.ZipFile(io.BytesIO(response.content))\n",
    "            csv.extractall(path = '/Users/mkarkhan/anaconda2/baywheels_ride_data')"
   ]
  },
  {
   "cell_type": "code",
   "execution_count": 19,
   "metadata": {},
   "outputs": [],
   "source": [
    "def filetodf():\n",
    "    listitem = []\n",
    "    for filename in glob('/Users/mkarkhan/anaconda2/baywheels_ride_data/'+'*.csv'):\n",
    "        with open(filename, 'r') as f:\n",
    "            df = pd.read_csv(f)\n",
    "            listitem.append(df)\n",
    "    bikedata_df = pd.concat(listitem, axis=0, ignore_index=True, sort=True)\n",
    "    return bikedata_df"
   ]
  },
  {
   "cell_type": "code",
   "execution_count": 20,
   "metadata": {},
   "outputs": [],
   "source": [
    "def main():\n",
    "    # load xml from web to a file\n",
    "    loadXML()\n",
    "    # parse xml file\n",
    "    filenames = parse_XML('baywheels-data.xml')\n",
    "    # build urls from file names\n",
    "    filenames_url = createURL(filenames)\n",
    "    # doanload csv files to folder using urls\n",
    "    downloadfile(filenames_url)\n",
    "    # imports data from csv files in folder to dataframe\n",
    "    bikedata_df = filetodf()\n",
    "    return bikedata_df"
   ]
  },
  {
   "cell_type": "code",
   "execution_count": 21,
   "metadata": {},
   "outputs": [
    {
     "name": "stderr",
     "output_type": "stream",
     "text": [
      "/Users/mkarkhan/anaconda2/lib/python2.7/site-packages/ipykernel_launcher.py:9: DeprecationWarning: This method will be removed in future versions.  Use 'list(elem)' or iteration over elem instead.\n",
      "  if __name__ == '__main__':\n"
     ]
    }
   ],
   "source": [
    "bikedata_df = main()"
   ]
  },
  {
   "cell_type": "code",
   "execution_count": 22,
   "metadata": {},
   "outputs": [
    {
     "name": "stdout",
     "output_type": "stream",
     "text": [
      "<class 'pandas.core.frame.DataFrame'>\n",
      "RangeIndex: 3628260 entries, 0 to 3628259\n",
      "Data columns (total 17 columns):\n",
      "bike_id                    int64\n",
      "bike_share_for_all_trip    object\n",
      "duration_sec               int64\n",
      "end_station_id             float64\n",
      "end_station_latitude       float64\n",
      "end_station_longitude      float64\n",
      "end_station_name           object\n",
      "end_time                   object\n",
      "member_birth_year          float64\n",
      "member_gender              object\n",
      "rental_access_method       object\n",
      "start_station_id           float64\n",
      "start_station_latitude     float64\n",
      "start_station_longitude    float64\n",
      "start_station_name         object\n",
      "start_time                 object\n",
      "user_type                  object\n",
      "dtypes: float64(7), int64(2), object(8)\n",
      "memory usage: 470.6+ MB\n"
     ]
    }
   ],
   "source": [
    "bikedata_df.info()"
   ]
  },
  {
   "cell_type": "code",
   "execution_count": 23,
   "metadata": {},
   "outputs": [
    {
     "data": {
      "text/plain": [
       "0"
      ]
     },
     "execution_count": 23,
     "metadata": {},
     "output_type": "execute_result"
    }
   ],
   "source": [
    "# Check if any duplicates exist\n",
    "bikedata_df.duplicated().sum()"
   ]
  },
  {
   "cell_type": "code",
   "execution_count": 24,
   "metadata": {},
   "outputs": [
    {
     "data": {
      "text/plain": [
       "bike_id                          0\n",
       "bike_share_for_all_trip     523593\n",
       "duration_sec                     0\n",
       "end_station_id               14778\n",
       "end_station_latitude             0\n",
       "end_station_longitude            0\n",
       "end_station_name             14778\n",
       "end_time                         0\n",
       "member_birth_year           245772\n",
       "member_gender               245118\n",
       "rental_access_method       3624367\n",
       "start_station_id             14676\n",
       "start_station_latitude           0\n",
       "start_station_longitude          0\n",
       "start_station_name           14676\n",
       "start_time                       0\n",
       "user_type                        0\n",
       "dtype: int64"
      ]
     },
     "execution_count": 24,
     "metadata": {},
     "output_type": "execute_result"
    }
   ],
   "source": [
    "# Check if missing values exist\n",
    "bikedata_df.isna().sum()"
   ]
  },
  {
   "cell_type": "markdown",
   "metadata": {},
   "source": [
    "### Data Assessing:\n",
    "\n",
    "Quality Issues:\n",
    "1. start_time and end_time should be datetime datatype\n",
    "2. start_station_id and end_station_id should be object datatype\n",
    "3. member_birth_year should be integer datatype\n",
    "4. Calculate age of member and create new column for it using member_birth_year\n",
    "5. Calculate distance between stations using latitude and longitude points."
   ]
  },
  {
   "cell_type": "markdown",
   "metadata": {},
   "source": [
    "### Data Cleaning"
   ]
  },
  {
   "cell_type": "code",
   "execution_count": 62,
   "metadata": {},
   "outputs": [],
   "source": [
    "# Create copy of the data before we clean it\n",
    "bikedata_df_copy = bikedata_df.copy()"
   ]
  },
  {
   "cell_type": "markdown",
   "metadata": {},
   "source": [
    "#### Define:\n",
    "\n",
    "Convert start_time and endtime to datetime datatype using to_datetime() function"
   ]
  },
  {
   "cell_type": "markdown",
   "metadata": {},
   "source": [
    "#### Code:"
   ]
  },
  {
   "cell_type": "code",
   "execution_count": 63,
   "metadata": {},
   "outputs": [],
   "source": [
    "bikedata_df_copy['start_time'] = pd.to_datetime(bikedata_df_copy.start_time)\n",
    "bikedata_df_copy['end_time'] = pd.to_datetime(bikedata_df_copy.end_time)"
   ]
  },
  {
   "cell_type": "markdown",
   "metadata": {},
   "source": [
    "#### Test:"
   ]
  },
  {
   "cell_type": "code",
   "execution_count": 64,
   "metadata": {},
   "outputs": [
    {
     "name": "stdout",
     "output_type": "stream",
     "text": [
      "<class 'pandas.core.frame.DataFrame'>\n",
      "RangeIndex: 3628260 entries, 0 to 3628259\n",
      "Data columns (total 17 columns):\n",
      "bike_id                    int64\n",
      "bike_share_for_all_trip    object\n",
      "duration_sec               int64\n",
      "end_station_id             float64\n",
      "end_station_latitude       float64\n",
      "end_station_longitude      float64\n",
      "end_station_name           object\n",
      "end_time                   datetime64[ns]\n",
      "member_birth_year          float64\n",
      "member_gender              object\n",
      "rental_access_method       object\n",
      "start_station_id           float64\n",
      "start_station_latitude     float64\n",
      "start_station_longitude    float64\n",
      "start_station_name         object\n",
      "start_time                 datetime64[ns]\n",
      "user_type                  object\n",
      "dtypes: datetime64[ns](2), float64(7), int64(2), object(6)\n",
      "memory usage: 470.6+ MB\n"
     ]
    }
   ],
   "source": [
    "bikedata_df_copy.info()"
   ]
  },
  {
   "cell_type": "markdown",
   "metadata": {},
   "source": [
    "#### Define:\n",
    "\n",
    "Convert start_station_id and end_station_id to object datatype using astype() function"
   ]
  },
  {
   "cell_type": "markdown",
   "metadata": {},
   "source": [
    "#### Code:"
   ]
  },
  {
   "cell_type": "code",
   "execution_count": 65,
   "metadata": {},
   "outputs": [],
   "source": [
    "bikedata_df_copy['start_station_id'] = bikedata_df_copy['start_station_id'].astype('object')\n",
    "bikedata_df_copy['end_station_id'] = bikedata_df_copy['end_station_id'].astype('object')"
   ]
  },
  {
   "cell_type": "markdown",
   "metadata": {},
   "source": [
    "#### Test"
   ]
  },
  {
   "cell_type": "code",
   "execution_count": 29,
   "metadata": {},
   "outputs": [
    {
     "name": "stdout",
     "output_type": "stream",
     "text": [
      "<class 'pandas.core.frame.DataFrame'>\n",
      "RangeIndex: 3628260 entries, 0 to 3628259\n",
      "Data columns (total 17 columns):\n",
      "bike_id                    int64\n",
      "bike_share_for_all_trip    object\n",
      "duration_sec               int64\n",
      "end_station_id             object\n",
      "end_station_latitude       float64\n",
      "end_station_longitude      float64\n",
      "end_station_name           object\n",
      "end_time                   datetime64[ns]\n",
      "member_birth_year          float64\n",
      "member_gender              object\n",
      "rental_access_method       object\n",
      "start_station_id           object\n",
      "start_station_latitude     float64\n",
      "start_station_longitude    float64\n",
      "start_station_name         object\n",
      "start_time                 datetime64[ns]\n",
      "user_type                  object\n",
      "dtypes: datetime64[ns](2), float64(5), int64(2), object(8)\n",
      "memory usage: 470.6+ MB\n"
     ]
    }
   ],
   "source": [
    "bikedata_df_copy.info()"
   ]
  },
  {
   "cell_type": "markdown",
   "metadata": {},
   "source": [
    "#### Define:\n",
    "\n",
    "Fill missing values with 0000 using fillna() and convert member_birth_year to int using astype() function"
   ]
  },
  {
   "cell_type": "markdown",
   "metadata": {},
   "source": [
    "#### Code:"
   ]
  },
  {
   "cell_type": "code",
   "execution_count": 66,
   "metadata": {},
   "outputs": [],
   "source": [
    "# We fill missing values for member birth year with '0000'\n",
    "bikedata_df_copy['member_birth_year'] = bikedata_df_copy['member_birth_year'].fillna('0000')\n",
    "# Convert member birth year to int datatype\n",
    "bikedata_df_copy['member_birth_year'] = bikedata_df_copy['member_birth_year'].astype('int64')"
   ]
  },
  {
   "cell_type": "markdown",
   "metadata": {},
   "source": [
    "#### Test:"
   ]
  },
  {
   "cell_type": "code",
   "execution_count": 67,
   "metadata": {},
   "outputs": [
    {
     "name": "stdout",
     "output_type": "stream",
     "text": [
      "<class 'pandas.core.frame.DataFrame'>\n",
      "RangeIndex: 3628260 entries, 0 to 3628259\n",
      "Data columns (total 17 columns):\n",
      "bike_id                    int64\n",
      "bike_share_for_all_trip    object\n",
      "duration_sec               int64\n",
      "end_station_id             object\n",
      "end_station_latitude       float64\n",
      "end_station_longitude      float64\n",
      "end_station_name           object\n",
      "end_time                   datetime64[ns]\n",
      "member_birth_year          int64\n",
      "member_gender              object\n",
      "rental_access_method       object\n",
      "start_station_id           object\n",
      "start_station_latitude     float64\n",
      "start_station_longitude    float64\n",
      "start_station_name         object\n",
      "start_time                 datetime64[ns]\n",
      "user_type                  object\n",
      "dtypes: datetime64[ns](2), float64(4), int64(3), object(8)\n",
      "memory usage: 470.6+ MB\n"
     ]
    }
   ],
   "source": [
    "bikedata_df_copy.info()"
   ]
  },
  {
   "cell_type": "markdown",
   "metadata": {},
   "source": [
    "#### Define:\n",
    "\n",
    "Calculate age of member by subtracting birth year from current year"
   ]
  },
  {
   "cell_type": "markdown",
   "metadata": {},
   "source": [
    "#### Code:"
   ]
  },
  {
   "cell_type": "code",
   "execution_count": 68,
   "metadata": {},
   "outputs": [],
   "source": [
    "bikedata_df_copy['age'] = 2019 - bikedata_df_copy['member_birth_year']\n",
    "\n",
    "# We replace the age for members whose birth years we do not have with 0\n",
    "bikedata_df_copy['age'] = bikedata_df_copy['age'].replace(2019,0)"
   ]
  },
  {
   "cell_type": "markdown",
   "metadata": {},
   "source": [
    "#### Test:"
   ]
  },
  {
   "cell_type": "code",
   "execution_count": 69,
   "metadata": {},
   "outputs": [
    {
     "name": "stdout",
     "output_type": "stream",
     "text": [
      "<class 'pandas.core.frame.DataFrame'>\n",
      "RangeIndex: 3628260 entries, 0 to 3628259\n",
      "Data columns (total 18 columns):\n",
      "bike_id                    int64\n",
      "bike_share_for_all_trip    object\n",
      "duration_sec               int64\n",
      "end_station_id             object\n",
      "end_station_latitude       float64\n",
      "end_station_longitude      float64\n",
      "end_station_name           object\n",
      "end_time                   datetime64[ns]\n",
      "member_birth_year          int64\n",
      "member_gender              object\n",
      "rental_access_method       object\n",
      "start_station_id           object\n",
      "start_station_latitude     float64\n",
      "start_station_longitude    float64\n",
      "start_station_name         object\n",
      "start_time                 datetime64[ns]\n",
      "user_type                  object\n",
      "age                        int64\n",
      "dtypes: datetime64[ns](2), float64(4), int64(4), object(8)\n",
      "memory usage: 498.3+ MB\n"
     ]
    }
   ],
   "source": [
    "bikedata_df_copy.info()"
   ]
  },
  {
   "cell_type": "markdown",
   "metadata": {},
   "source": [
    "#### Define:\n",
    "\n",
    "Defined a function to calculate distance between start and end stations using latitude and longitude with the Haversine formula.\n",
    "\n",
    "Assigned calculated distance to distance column in dataframe"
   ]
  },
  {
   "cell_type": "markdown",
   "metadata": {},
   "source": [
    "#### Code:"
   ]
  },
  {
   "cell_type": "code",
   "execution_count": 70,
   "metadata": {},
   "outputs": [],
   "source": [
    "import math\n",
    "from math import radians, sin, cos, acos\n",
    "\n",
    "def distfromlatlong(lat_start,lon_start,lat_end,lon_end):\n",
    "    \n",
    "    # approximate radius of earth in miles\n",
    "    R = 3958.8\n",
    "\n",
    "    dlon = math.radians(lon_end - lon_start)\n",
    "    dlat = math.radians(lat_end - lat_start)\n",
    "    \n",
    "    a = sin(dlat / 2)**2 + cos(lat_start) * cos(lat_end) * sin(dlon / 2)**2\n",
    "    c = 2 * math.atan2(math.sqrt(a), math.sqrt(1 - a))\n",
    "\n",
    "    distance = R * c\n",
    "    return distance"
   ]
  },
  {
   "cell_type": "code",
   "execution_count": 71,
   "metadata": {},
   "outputs": [],
   "source": [
    "bikedata_df_copy['distance'] = bikedata_df_copy.apply(lambda x: distfromlatlong(x['start_station_latitude'], x['start_station_longitude'], x['end_station_latitude'], x['end_station_longitude']), axis=1)"
   ]
  },
  {
   "cell_type": "markdown",
   "metadata": {},
   "source": [
    "#### Test:"
   ]
  },
  {
   "cell_type": "code",
   "execution_count": 72,
   "metadata": {},
   "outputs": [
    {
     "name": "stdout",
     "output_type": "stream",
     "text": [
      "<class 'pandas.core.frame.DataFrame'>\n",
      "RangeIndex: 3628260 entries, 0 to 3628259\n",
      "Data columns (total 19 columns):\n",
      "bike_id                    int64\n",
      "bike_share_for_all_trip    object\n",
      "duration_sec               int64\n",
      "end_station_id             object\n",
      "end_station_latitude       float64\n",
      "end_station_longitude      float64\n",
      "end_station_name           object\n",
      "end_time                   datetime64[ns]\n",
      "member_birth_year          int64\n",
      "member_gender              object\n",
      "rental_access_method       object\n",
      "start_station_id           object\n",
      "start_station_latitude     float64\n",
      "start_station_longitude    float64\n",
      "start_station_name         object\n",
      "start_time                 datetime64[ns]\n",
      "user_type                  object\n",
      "age                        int64\n",
      "distance                   float64\n",
      "dtypes: datetime64[ns](2), float64(5), int64(4), object(8)\n",
      "memory usage: 525.9+ MB\n"
     ]
    }
   ],
   "source": [
    "bikedata_df_copy.info()"
   ]
  },
  {
   "cell_type": "markdown",
   "metadata": {},
   "source": [
    "#### Define:\n",
    "\n",
    "Since 99% of the data is under the age of 65 years, we will exclude bike ride data for users above 65 years of age."
   ]
  },
  {
   "cell_type": "markdown",
   "metadata": {},
   "source": [
    "#### Code:"
   ]
  },
  {
   "cell_type": "code",
   "execution_count": 75,
   "metadata": {},
   "outputs": [
    {
     "data": {
      "text/plain": [
       "count    3.628260e+06\n",
       "mean     3.329310e+01\n",
       "std      1.348742e+01\n",
       "min      0.000000e+00\n",
       "50%      3.300000e+01\n",
       "99%      6.500000e+01\n",
       "max      1.410000e+02\n",
       "Name: age, dtype: float64"
      ]
     },
     "execution_count": 75,
     "metadata": {},
     "output_type": "execute_result"
    }
   ],
   "source": [
    "# We can see that 99% of users are under the age of 65 years\n",
    "bikedata_df_copy['age'].describe(percentiles = [.99])"
   ]
  },
  {
   "cell_type": "code",
   "execution_count": 76,
   "metadata": {},
   "outputs": [],
   "source": [
    "bikedata_df_copy = bikedata_df_copy.query('age <= 65')"
   ]
  },
  {
   "cell_type": "markdown",
   "metadata": {},
   "source": [
    "#### Test:"
   ]
  },
  {
   "cell_type": "code",
   "execution_count": 77,
   "metadata": {},
   "outputs": [
    {
     "name": "stdout",
     "output_type": "stream",
     "text": [
      "<class 'pandas.core.frame.DataFrame'>\n",
      "Int64Index: 3594945 entries, 0 to 3628259\n",
      "Data columns (total 19 columns):\n",
      "bike_id                    int64\n",
      "bike_share_for_all_trip    object\n",
      "duration_sec               int64\n",
      "end_station_id             object\n",
      "end_station_latitude       float64\n",
      "end_station_longitude      float64\n",
      "end_station_name           object\n",
      "end_time                   datetime64[ns]\n",
      "member_birth_year          int64\n",
      "member_gender              object\n",
      "rental_access_method       object\n",
      "start_station_id           object\n",
      "start_station_latitude     float64\n",
      "start_station_longitude    float64\n",
      "start_station_name         object\n",
      "start_time                 datetime64[ns]\n",
      "user_type                  object\n",
      "age                        int64\n",
      "distance                   float64\n",
      "dtypes: datetime64[ns](2), float64(5), int64(4), object(8)\n",
      "memory usage: 548.5+ MB\n"
     ]
    }
   ],
   "source": [
    "bikedata_df_copy.info()"
   ]
  },
  {
   "cell_type": "markdown",
   "metadata": {},
   "source": [
    "### What is the structure of your dataset?\n",
    "\n",
    "> "
   ]
  },
  {
   "cell_type": "markdown",
   "metadata": {},
   "source": [
    "### What is/are the main feature(s) of interest in your dataset?"
   ]
  },
  {
   "cell_type": "markdown",
   "metadata": {},
   "source": [
    "### What features in the dataset do you think will help support your investigation into your feature(s) of interest?"
   ]
  },
  {
   "cell_type": "markdown",
   "metadata": {},
   "source": [
    "## Univariate Exploration\n",
    "\n",
    "> In this section, investigate distributions of individual variables. If\n",
    "you see unusual points or outliers, take a deeper look to clean things up\n",
    "and prepare yourself to look at relationships between variables."
   ]
  },
  {
   "cell_type": "markdown",
   "metadata": {},
   "source": [
    "> <b> Member_Age </b>"
   ]
  },
  {
   "cell_type": "code",
   "execution_count": 92,
   "metadata": {},
   "outputs": [
    {
     "data": {
      "text/plain": [
       "Text(0.5,1,'Bike Ride Count by User Age')"
      ]
     },
     "execution_count": 92,
     "metadata": {},
     "output_type": "execute_result"
    },
    {
     "data": {
      "image/png": "[encoded data removed]",
      "text/plain": [
       "<Figure size 576x360 with 1 Axes>"
      ]
     },
     "metadata": {},
     "output_type": "display_data"
    }
   ],
   "source": [
    "plt.figure(figsize = [8,5])\n",
    "bin_edges = np.arange(0,bikedata_df_copy['age'].max()+1,5)\n",
    "plt.hist(data = bikedata_df_copy, x='age', bins=bin_edges)\n",
    "plt.xlabel('Age (Years)')\n",
    "plt.ylabel('Bike Ride Count')\n",
    "plt.title('Bike Ride Count by User Age', fontsize = 12)\n"
   ]
  },
  {
   "cell_type": "markdown",
   "metadata": {},
   "source": [
    "The average mean age of users is 33 years. We observe that maximum users are in the age group of 30-35 years which concurs with our mean. The little spike we see at 0 years are those users whose Member_birth_year was not available and so their age was set to 0 years. We chose to ignore this spike."
   ]
  },
  {
   "cell_type": "markdown",
   "metadata": {},
   "source": [
    "> <b> Member Gender </b>"
   ]
  },
  {
   "cell_type": "code",
   "execution_count": 94,
   "metadata": {},
   "outputs": [
    {
     "data": {
      "text/plain": [
       "Text(0.5,1,'Bike Ride Count by User Gender')"
      ]
     },
     "execution_count": 94,
     "metadata": {},
     "output_type": "execute_result"
    },
    {
     "data": {
      "image/png": "[encoded data removed]",
      "text/plain": [
       "<Figure size 576x360 with 1 Axes>"
      ]
     },
     "metadata": {},
     "output_type": "display_data"
    }
   ],
   "source": [
    "plt.figure(figsize = [8,5])\n",
    "sorted_counts = bikedata_df_copy['member_gender'].value_counts()\n",
    "plt.pie(sorted_counts, labels = sorted_counts.index, startangle = 90,\n",
    "        counterclock = False, autopct = '%.2f')\n",
    "plt.axis('square')\n",
    "plt.title('Bike Ride Count by User Gender', fontsize = 12)"
   ]
  },
  {
   "cell_type": "markdown",
   "metadata": {},
   "source": [
    "We observe that a majority of our users are Males, more accurately 74.02% as compared to Females (24.26%). The Other gender counts rides taken by users that did not share their gender with us."
   ]
  },
  {
   "cell_type": "code",
   "execution_count": 96,
   "metadata": {},
   "outputs": [],
   "source": [
    "# We extract year, month, weekday and hour from the start_time variable to \n",
    "bikedata_df_copy['year'] = bikedata_df_copy['start_time'].dt.year\n",
    "bikedata_df_copy['month'] = bikedata_df_copy['start_time'].dt.month\n",
    "bikedata_df_copy['weekday'] = bikedata_df_copy['start_time'].dt.weekday\n",
    "bikedata_df_copy['hour'] = bikedata_df_copy['start_time'].dt.hour"
   ]
  },
  {
   "cell_type": "markdown",
   "metadata": {},
   "source": [
    "> <b> Bike Ride Data By Year </b>"
   ]
  },
  {
   "cell_type": "code",
   "execution_count": 104,
   "metadata": {},
   "outputs": [
    {
     "data": {
      "text/plain": [
       "Text(0.5,1,'Bike Ride Count by Year')"
      ]
     },
     "execution_count": 104,
     "metadata": {},
     "output_type": "execute_result"
    },
    {
     "data": {
      "image/png": "[encoded data removed]",
      "text/plain": [
       "<Figure size 432x288 with 1 Axes>"
      ]
     },
     "metadata": {},
     "output_type": "display_data"
    }
   ],
   "source": [
    "plt.figure(figsize = [6,4])\n",
    "sb.countplot(data = bikedata_df_copy, x = 'year', color = 'teal')\n",
    "plt.xlabel('Year')\n",
    "plt.ylabel('Bike Ride Count')\n",
    "plt.title('Bike Ride Count by Year', fontsize = 12)\n"
   ]
  },
  {
   "cell_type": "markdown",
   "metadata": {},
   "source": [
    "We observe that most rides were taken in the year 2018. However we still do not have complete data for 2019, so this is true only for the current data."
   ]
  },
  {
   "cell_type": "markdown",
   "metadata": {},
   "source": [
    "> <b> Bike Ride Data by Month </b>"
   ]
  },
  {
   "cell_type": "code",
   "execution_count": 116,
   "metadata": {},
   "outputs": [
    {
     "data": {
      "text/plain": [
       "([<matplotlib.axis.XTick at 0x110d3bd10>,\n",
       "  <matplotlib.axis.XTick at 0x110d3b7d0>,\n",
       "  <matplotlib.axis.XTick at 0x110d3b150>,\n",
       "  <matplotlib.axis.XTick at 0x110927510>,\n",
       "  <matplotlib.axis.XTick at 0x110927a50>,\n",
       "  <matplotlib.axis.XTick at 0x110927fd0>,\n",
       "  <matplotlib.axis.XTick at 0x110932590>,\n",
       "  <matplotlib.axis.XTick at 0x110932b10>,\n",
       "  <matplotlib.axis.XTick at 0x1109410d0>,\n",
       "  <matplotlib.axis.XTick at 0x110941650>,\n",
       "  <matplotlib.axis.XTick at 0x110941bd0>,\n",
       "  <matplotlib.axis.XTick at 0x110941750>],\n",
       " <a list of 12 Text xticklabel objects>)"
      ]
     },
     "execution_count": 116,
     "metadata": {},
     "output_type": "execute_result"
    },
    {
     "data": {
      "image/png": "[encoded data removed]",
      "text/plain": [
       "<Figure size 720x576 with 1 Axes>"
      ]
     },
     "metadata": {},
     "output_type": "display_data"
    }
   ],
   "source": [
    "plt.figure(figsize = [10,8])\n",
    "sb.countplot(data = bikedata_df_copy, x = 'month', color = 'teal')\n",
    "plt.xlabel('Month')\n",
    "plt.ylabel('Bike Ride Count')\n",
    "plt.title('Bike Ride Count by Month', fontsize = 12)\n",
    "plt.xticks(np.arange(0,12,1),['January','February','March','April','May','June','July','August','September','October','November','December'], rotation = 70)\n"
   ]
  },
  {
   "cell_type": "markdown",
   "metadata": {},
   "source": [
    "Most rides are taken by users in the month of June, followed by April, March and May. \n",
    "This is the time when it begins to get warmer so the increased bike rides are normal. Another small spike is observed in October which is Fall season. As the temperature goes down a little, maybe users begin riding again untill it gets colder."
   ]
  },
  {
   "cell_type": "markdown",
   "metadata": {},
   "source": [
    "> <b> Bike Ride Data by Weekday </b>"
   ]
  },
  {
   "cell_type": "code",
   "execution_count": 115,
   "metadata": {},
   "outputs": [
    {
     "data": {
      "text/plain": [
       "([<matplotlib.axis.XTick at 0x110ae5a50>,\n",
       "  <matplotlib.axis.XTick at 0x110ae5410>,\n",
       "  <matplotlib.axis.XTick at 0x11616d2d0>,\n",
       "  <matplotlib.axis.XTick at 0x110b21090>,\n",
       "  <matplotlib.axis.XTick at 0x110b215d0>,\n",
       "  <matplotlib.axis.XTick at 0x110b21b50>,\n",
       "  <matplotlib.axis.XTick at 0x110b2c110>],\n",
       " <a list of 7 Text xticklabel objects>)"
      ]
     },
     "execution_count": 115,
     "metadata": {},
     "output_type": "execute_result"
    },
    {
     "data": {
      "image/png": "[encoded data removed]",
      "text/plain": [
       "<Figure size 576x432 with 1 Axes>"
      ]
     },
     "metadata": {},
     "output_type": "display_data"
    }
   ],
   "source": [
    "plt.figure(figsize = [8,6])\n",
    "sb.countplot(data = bikedata_df_copy, x = 'weekday', color = 'teal')\n",
    "plt.xlabel('Weekday')\n",
    "plt.ylabel('Bike Ride Count')\n",
    "plt.title('Bike Ride Count by Weekday', fontsize = 12)\n",
    "plt.xticks(np.arange(0,7,1),['Monday','Tuesday','Wednesday','Thursday','Friday','Saturday','Sunday'], rotation = 70)\n"
   ]
  },
  {
   "cell_type": "markdown",
   "metadata": {},
   "source": [
    "We observe that most rides are taken on Thursday followed by other days during the week. This reiterates te fact that most bike rides are undertaken to head to work/school and not for leisure"
   ]
  },
  {
   "cell_type": "markdown",
   "metadata": {},
   "source": [
    "### Discuss the distribution(s) of your variable(s) of interest. Were there any unusual points? Did you need to perform any transformations?\n",
    "\n",
    "> Your answer here!\n",
    "\n",
    "### Of the features you investigated, were there any unusual distributions? Did you perform any operations on the data to tidy, adjust, or change the form of the data? If so, why did you do this?\n",
    "\n",
    "> Your answer here!"
   ]
  },
  {
   "cell_type": "markdown",
   "metadata": {},
   "source": [
    "## Bivariate Exploration\n",
    "\n",
    "> In this section, investigate relationships between pairs of variables in your\n",
    "data. Make sure the variables that you cover here have been introduced in some\n",
    "fashion in the previous section (univariate exploration)."
   ]
  },
  {
   "cell_type": "code",
   "execution_count": null,
   "metadata": {},
   "outputs": [],
   "source": []
  },
  {
   "cell_type": "markdown",
   "metadata": {},
   "source": [
    "### Talk about some of the relationships you observed in this part of the investigation. How did the feature(s) of interest vary with other features in the dataset?\n",
    "\n",
    "> Your answer here!\n",
    "\n",
    "### Did you observe any interesting relationships between the other features (not the main feature(s) of interest)?\n",
    "\n",
    "> Your answer here!"
   ]
  },
  {
   "cell_type": "markdown",
   "metadata": {},
   "source": [
    "## Multivariate Exploration\n",
    "\n",
    "> Create plots of three or more variables to investigate your data even\n",
    "further. Make sure that your investigations are justified, and follow from\n",
    "your work in the previous sections."
   ]
  },
  {
   "cell_type": "code",
   "execution_count": null,
   "metadata": {},
   "outputs": [],
   "source": []
  },
  {
   "cell_type": "markdown",
   "metadata": {},
   "source": [
    "### Talk about some of the relationships you observed in this part of the investigation. Were there features that strengthened each other in terms of looking at your feature(s) of interest?\n",
    "\n",
    "> Your answer here!\n",
    "\n",
    "### Were there any interesting or surprising interactions between features?\n",
    "\n",
    "> Your answer here!"
   ]
  },
  {
   "cell_type": "markdown",
   "metadata": {},
   "source": [
    "> At the end of your report, make sure that you export the notebook as an\n",
    "html file from the `File > Download as... > HTML` menu. Make sure you keep\n",
    "track of where the exported file goes, so you can put it in the same folder\n",
    "as this notebook for project submission. Also, make sure you remove all of\n",
    "the quote-formatted guide notes like this one before you finish your report!"
   ]
  },
  {
   "cell_type": "code",
   "execution_count": null,
   "metadata": {},
   "outputs": [],
   "source": []
  }
 ],
 "metadata": {
  "kernelspec": {
   "display_name": "Python 2",
   "language": "python",
   "name": "python2"
  },
  "language_info": {
   "codemirror_mode": {
    "name": "ipython",
    "version": 2
   },
   "file_extension": ".py",
   "mimetype": "text/x-python",
   "name": "python",
   "nbconvert_exporter": "python",
   "pygments_lexer": "ipython2",
   "version": "2.7.14"
  }
 },
 "nbformat": 4,
 "nbformat_minor": 2
}
